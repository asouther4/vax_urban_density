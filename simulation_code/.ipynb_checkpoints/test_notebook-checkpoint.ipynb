{
 "cells": [
  {
   "cell_type": "markdown",
   "metadata": {},
   "source": [
    "# It's Worth A Shot... \n",
    "### Urban Density, Endogenous Vaccination Decisions, and Dynamics of Infectious Disease\n",
    "\n",
    "Data Analysis Notebook <br>\n",
    "Programmer: Andrew Souther <br>\n",
    "Date: December 2020"
   ]
  },
  {
   "cell_type": "markdown",
   "metadata": {},
   "source": [
    "To begin, we import all the packages we need. We use pandas for data manipulation, matplotlib for visualization, and econtools for econometrics work. csv and all the following packages are needed to clean the network data. "
   ]
  },
  {
   "cell_type": "code",
   "execution_count": 1,
   "metadata": {},
   "outputs": [],
   "source": [
    "%matplotlib inline\n",
    "import pandas as pd\n",
    "import matplotlib.pyplot as plt\n",
    "import os\n",
    "import json\n",
    "#import econtools.metrics as mt\n",
    "\n",
    "\n",
    "import csv\n",
    "import networkx as nx\n",
    "from networkx.algorithms import community"
   ]
  },
  {
   "cell_type": "markdown",
   "metadata": {},
   "source": [
    "We will also define a few helpful functions to make repetitive data tasks a bit cleaner. "
   ]
  },
  {
   "cell_type": "code",
   "execution_count": 2,
   "metadata": {},
   "outputs": [],
   "source": [
    "#this function imports an experiment data log file and performs some simple cleaning\n",
    "def import_and_clean(filepath):\n",
    "    \n",
    "    df = pd.read_json(filepath, lines=True)\n",
    "    \n",
    "    df[\"proportion_vacc\"] = 1 - (df[\"unvaccinated\"] / df[\"hub_size\"])\n",
    "    df[\"proportion_inf\"] = (df[\"recovered\"] / df[\"hub_size\"]) \n",
    "    df[\"hub_id\"] = df[\"hub\"].astype(str) + df[\"inst_unique_id\"] #generate a unique id for each hub\n",
    "\n",
    "    return df\n",
    "\n",
    "\n",
    "#this function builds a dataframe of \"steady-state\" values, averaged for each hub over the last five seasons\n",
    "def collapse_steady_state(df):\n",
    "    \n",
    "    df_last5 = df.query(\"season>=20\")\n",
    "\n",
    "    #collapse the data to the hub level, averaging over the last 5 seasons\n",
    "    df_hubs = df_last5[[\"proportion_inf\", \n",
    "                          \"proportion_vacc\", \n",
    "                          \"homophily\", \n",
    "                          \"hub_density\",\n",
    "                          \"cost_of_infection\",\n",
    "                          \"hub_id\"]].groupby([\"hub_id\"]).mean()\n",
    "    return df_hubs\n",
    "\n",
    "\n",
    "#this function imports and cleans the raw network data\n",
    "def import_network_data(filepath, simulation_id):\n",
    "    network_df = pd.read_json(filepath, lines=True)\n",
    "    network_df = network_df[network_df[\"simulation_id\"]==simulation_id]\n",
    "    \n",
    "    edges_df = network_df.loc[network_df[\"data_flag\"] == \"network\"]\n",
    "    edges_df = edges_df[[\"source\", \"target\"]]\n",
    "\n",
    "    nodes_df = network_df.loc[network_df[\"data_flag\"] == \"hub\"]\n",
    "    nodes_df = nodes_df[[\"agent\", \"type\"]]\n",
    "    \n",
    "    return edges_df, nodes_df\n",
    "\n",
    "\n",
    "#this function takes network data in two pandas dataframes outputs it in a form that Gephi likes\n",
    "def build_gexf_from_df(edges_df, nodes_df, filepath):\n",
    "    \n",
    "    nodes_df.to_csv('network_data/nodelist.csv', index=False)\n",
    "    edges_df.to_csv('network_data/edgelist.csv', index=False)\n",
    "\n",
    "    with open('network_data/nodelist.csv', 'r') as nodecsv: # Open the file\n",
    "        nodereader = csv.reader(nodecsv) # Read the csv\n",
    "        # Retrieve the data (using Python list comprhension and list slicing to remove the header row, see footnote 3)\n",
    "        nodes = [n for n in nodereader][1:]\n",
    "\n",
    "    node_names = [n[0] for n in nodes] # Get a list of only the node names\n",
    "\n",
    "    with open('network_data/edgelist.csv', 'r') as edgecsv: # Open the file\n",
    "        edgereader = csv.reader(edgecsv) # Read the csv\n",
    "        edges = [tuple(e) for e in edgereader][1:] # Retrieve the data\n",
    "    \n",
    "    G = nx.Graph()\n",
    "    G.add_nodes_from(node_names)\n",
    "    G.add_edges_from(edges)\n",
    "\n",
    "    hub_dict = {}\n",
    "    for node in nodes: # Loop through the list, one row at a time\n",
    "        hub_dict[node[0]] = node[1]\n",
    "\n",
    "    nx.set_node_attributes(G, hub_dict, 'type')\n",
    "    nx.write_gexf(G, filepath)"
   ]
  },
  {
   "cell_type": "markdown",
   "metadata": {},
   "source": [
    "# Test Code"
   ]
  },
  {
   "cell_type": "code",
   "execution_count": 3,
   "metadata": {},
   "outputs": [
    {
     "data": {
      "text/plain": [
       "<Figure size 432x288 with 0 Axes>"
      ]
     },
     "metadata": {},
     "output_type": "display_data"
    }
   ],
   "source": [
    "raw_df = import_and_clean('prob_choice_data.log')\n",
    "prob_choices = raw_df['probability_choice'].unique().tolist()\n",
    "prob_choice_dict = {}\n",
    "\n",
    "for value in prob_choices:\n",
    "    value_df = raw_df[raw_df[\"probability_choice\"] == value]\n",
    "    percent = int(value * 100)\n",
    "\n",
    "    urban_grouped = value_df.query(\"hub_density==12\").groupby([\"season\"]).mean()\n",
    "    rural_grouped = value_df.query(\"hub_density==8\").groupby([\"season\"]).mean()\n",
    "    x = urban_grouped.index\n",
    "\n",
    "\n",
    "    urban_grouped = value_df.query(\"hub_density==12\").groupby([\"season\"]).mean()\n",
    "    rural_grouped = value_df.query(\"hub_density==8\").groupby([\"season\"]).mean()\n",
    "    x = urban_grouped.index\n",
    "\n",
    "    plt.plot(x, urban_grouped[\"proportion_vacc\"], color='#7f6d5f', label='Urban')\n",
    "    plt.plot(x, rural_grouped[\"proportion_vacc\"], color='#557f2d', label='Rural')\n",
    "    plt.title(f\"Average Regional Vaccination over Time, probability_choice = {percent}%\") \n",
    "    plt.xlabel(\"Season\")\n",
    "    plt.ylabel(\"Vaccination Rate\")\n",
    "    plt.legend(loc=\"best\")\n",
    "    \n",
    "    plt.savefig(f'prob_choice_images/seasonal_fig_{percent}.png', bbox_inches='tight')\n",
    "    plt.clf()"
   ]
  },
  {
   "cell_type": "code",
   "execution_count": 4,
   "metadata": {},
   "outputs": [
    {
     "ename": "KeyError",
     "evalue": "'fixed_percent'",
     "output_type": "error",
     "traceback": [
      "\u001b[1;31m---------------------------------------------------------------------------\u001b[0m",
      "\u001b[1;31mKeyError\u001b[0m                                  Traceback (most recent call last)",
      "\u001b[1;32m~\\Anaconda3\\lib\\site-packages\\pandas\\core\\indexes\\base.py\u001b[0m in \u001b[0;36mget_loc\u001b[1;34m(self, key, method, tolerance)\u001b[0m\n\u001b[0;32m   3079\u001b[0m             \u001b[1;32mtry\u001b[0m\u001b[1;33m:\u001b[0m\u001b[1;33m\u001b[0m\u001b[1;33m\u001b[0m\u001b[0m\n\u001b[1;32m-> 3080\u001b[1;33m                 \u001b[1;32mreturn\u001b[0m \u001b[0mself\u001b[0m\u001b[1;33m.\u001b[0m\u001b[0m_engine\u001b[0m\u001b[1;33m.\u001b[0m\u001b[0mget_loc\u001b[0m\u001b[1;33m(\u001b[0m\u001b[0mcasted_key\u001b[0m\u001b[1;33m)\u001b[0m\u001b[1;33m\u001b[0m\u001b[1;33m\u001b[0m\u001b[0m\n\u001b[0m\u001b[0;32m   3081\u001b[0m             \u001b[1;32mexcept\u001b[0m \u001b[0mKeyError\u001b[0m \u001b[1;32mas\u001b[0m \u001b[0merr\u001b[0m\u001b[1;33m:\u001b[0m\u001b[1;33m\u001b[0m\u001b[1;33m\u001b[0m\u001b[0m\n",
      "\u001b[1;32mpandas\\_libs\\index.pyx\u001b[0m in \u001b[0;36mpandas._libs.index.IndexEngine.get_loc\u001b[1;34m()\u001b[0m\n",
      "\u001b[1;32mpandas\\_libs\\index.pyx\u001b[0m in \u001b[0;36mpandas._libs.index.IndexEngine.get_loc\u001b[1;34m()\u001b[0m\n",
      "\u001b[1;32mpandas\\_libs\\hashtable_class_helper.pxi\u001b[0m in \u001b[0;36mpandas._libs.hashtable.PyObjectHashTable.get_item\u001b[1;34m()\u001b[0m\n",
      "\u001b[1;32mpandas\\_libs\\hashtable_class_helper.pxi\u001b[0m in \u001b[0;36mpandas._libs.hashtable.PyObjectHashTable.get_item\u001b[1;34m()\u001b[0m\n",
      "\u001b[1;31mKeyError\u001b[0m: 'fixed_percent'",
      "\nThe above exception was the direct cause of the following exception:\n",
      "\u001b[1;31mKeyError\u001b[0m                                  Traceback (most recent call last)",
      "\u001b[1;32m<ipython-input-4-8834e44e85a1>\u001b[0m in \u001b[0;36m<module>\u001b[1;34m\u001b[0m\n\u001b[0;32m      1\u001b[0m \u001b[0mraw_df\u001b[0m \u001b[1;33m=\u001b[0m \u001b[0mimport_and_clean\u001b[0m\u001b[1;33m(\u001b[0m\u001b[1;34m'fixed_percent_data.log'\u001b[0m\u001b[1;33m)\u001b[0m\u001b[1;33m\u001b[0m\u001b[1;33m\u001b[0m\u001b[0m\n\u001b[1;32m----> 2\u001b[1;33m \u001b[0mfixed_percents\u001b[0m \u001b[1;33m=\u001b[0m \u001b[0mraw_df\u001b[0m\u001b[1;33m[\u001b[0m\u001b[1;34m'fixed_percent'\u001b[0m\u001b[1;33m]\u001b[0m\u001b[1;33m.\u001b[0m\u001b[0munique\u001b[0m\u001b[1;33m(\u001b[0m\u001b[1;33m)\u001b[0m\u001b[1;33m.\u001b[0m\u001b[0mtolist\u001b[0m\u001b[1;33m(\u001b[0m\u001b[1;33m)\u001b[0m\u001b[1;33m\u001b[0m\u001b[1;33m\u001b[0m\u001b[0m\n\u001b[0m\u001b[0;32m      3\u001b[0m \u001b[0mfixed_percent_dict\u001b[0m \u001b[1;33m=\u001b[0m \u001b[1;33m{\u001b[0m\u001b[1;33m}\u001b[0m\u001b[1;33m\u001b[0m\u001b[1;33m\u001b[0m\u001b[0m\n\u001b[0;32m      4\u001b[0m \u001b[1;33m\u001b[0m\u001b[0m\n\u001b[0;32m      5\u001b[0m \u001b[1;32mfor\u001b[0m \u001b[0mvalue\u001b[0m \u001b[1;32min\u001b[0m \u001b[0mfixed_percents\u001b[0m\u001b[1;33m:\u001b[0m\u001b[1;33m\u001b[0m\u001b[1;33m\u001b[0m\u001b[0m\n",
      "\u001b[1;32m~\\Anaconda3\\lib\\site-packages\\pandas\\core\\frame.py\u001b[0m in \u001b[0;36m__getitem__\u001b[1;34m(self, key)\u001b[0m\n\u001b[0;32m   3022\u001b[0m             \u001b[1;32mif\u001b[0m \u001b[0mself\u001b[0m\u001b[1;33m.\u001b[0m\u001b[0mcolumns\u001b[0m\u001b[1;33m.\u001b[0m\u001b[0mnlevels\u001b[0m \u001b[1;33m>\u001b[0m \u001b[1;36m1\u001b[0m\u001b[1;33m:\u001b[0m\u001b[1;33m\u001b[0m\u001b[1;33m\u001b[0m\u001b[0m\n\u001b[0;32m   3023\u001b[0m                 \u001b[1;32mreturn\u001b[0m \u001b[0mself\u001b[0m\u001b[1;33m.\u001b[0m\u001b[0m_getitem_multilevel\u001b[0m\u001b[1;33m(\u001b[0m\u001b[0mkey\u001b[0m\u001b[1;33m)\u001b[0m\u001b[1;33m\u001b[0m\u001b[1;33m\u001b[0m\u001b[0m\n\u001b[1;32m-> 3024\u001b[1;33m             \u001b[0mindexer\u001b[0m \u001b[1;33m=\u001b[0m \u001b[0mself\u001b[0m\u001b[1;33m.\u001b[0m\u001b[0mcolumns\u001b[0m\u001b[1;33m.\u001b[0m\u001b[0mget_loc\u001b[0m\u001b[1;33m(\u001b[0m\u001b[0mkey\u001b[0m\u001b[1;33m)\u001b[0m\u001b[1;33m\u001b[0m\u001b[1;33m\u001b[0m\u001b[0m\n\u001b[0m\u001b[0;32m   3025\u001b[0m             \u001b[1;32mif\u001b[0m \u001b[0mis_integer\u001b[0m\u001b[1;33m(\u001b[0m\u001b[0mindexer\u001b[0m\u001b[1;33m)\u001b[0m\u001b[1;33m:\u001b[0m\u001b[1;33m\u001b[0m\u001b[1;33m\u001b[0m\u001b[0m\n\u001b[0;32m   3026\u001b[0m                 \u001b[0mindexer\u001b[0m \u001b[1;33m=\u001b[0m \u001b[1;33m[\u001b[0m\u001b[0mindexer\u001b[0m\u001b[1;33m]\u001b[0m\u001b[1;33m\u001b[0m\u001b[1;33m\u001b[0m\u001b[0m\n",
      "\u001b[1;32m~\\Anaconda3\\lib\\site-packages\\pandas\\core\\indexes\\base.py\u001b[0m in \u001b[0;36mget_loc\u001b[1;34m(self, key, method, tolerance)\u001b[0m\n\u001b[0;32m   3080\u001b[0m                 \u001b[1;32mreturn\u001b[0m \u001b[0mself\u001b[0m\u001b[1;33m.\u001b[0m\u001b[0m_engine\u001b[0m\u001b[1;33m.\u001b[0m\u001b[0mget_loc\u001b[0m\u001b[1;33m(\u001b[0m\u001b[0mcasted_key\u001b[0m\u001b[1;33m)\u001b[0m\u001b[1;33m\u001b[0m\u001b[1;33m\u001b[0m\u001b[0m\n\u001b[0;32m   3081\u001b[0m             \u001b[1;32mexcept\u001b[0m \u001b[0mKeyError\u001b[0m \u001b[1;32mas\u001b[0m \u001b[0merr\u001b[0m\u001b[1;33m:\u001b[0m\u001b[1;33m\u001b[0m\u001b[1;33m\u001b[0m\u001b[0m\n\u001b[1;32m-> 3082\u001b[1;33m                 \u001b[1;32mraise\u001b[0m \u001b[0mKeyError\u001b[0m\u001b[1;33m(\u001b[0m\u001b[0mkey\u001b[0m\u001b[1;33m)\u001b[0m \u001b[1;32mfrom\u001b[0m \u001b[0merr\u001b[0m\u001b[1;33m\u001b[0m\u001b[1;33m\u001b[0m\u001b[0m\n\u001b[0m\u001b[0;32m   3083\u001b[0m \u001b[1;33m\u001b[0m\u001b[0m\n\u001b[0;32m   3084\u001b[0m         \u001b[1;32mif\u001b[0m \u001b[0mtolerance\u001b[0m \u001b[1;32mis\u001b[0m \u001b[1;32mnot\u001b[0m \u001b[1;32mNone\u001b[0m\u001b[1;33m:\u001b[0m\u001b[1;33m\u001b[0m\u001b[1;33m\u001b[0m\u001b[0m\n",
      "\u001b[1;31mKeyError\u001b[0m: 'fixed_percent'"
     ]
    }
   ],
   "source": [
    "raw_df = import_and_clean('fixed_percent_data.log')\n",
    "percent_choices = raw_df['percent_choice'].unique().tolist()\n",
    "percent_choice_dict = {}\n",
    "\n",
    "for value in percent_choices:\n",
    "    value_df = raw_df[raw_df[\"percent_choice\"] == value]\n",
    "    percent = int(value * 100)\n",
    "\n",
    "    urban_grouped = value_df.query(\"hub_density==12\").groupby([\"season\"]).mean()\n",
    "    rural_grouped = value_df.query(\"hub_density==8\").groupby([\"season\"]).mean()\n",
    "    x = urban_grouped.index\n",
    "\n",
    "\n",
    "    urban_grouped = value_df.query(\"hub_density==12\").groupby([\"season\"]).mean()\n",
    "    rural_grouped = value_df.query(\"hub_density==8\").groupby([\"season\"]).mean()\n",
    "    x = urban_grouped.index\n",
    "\n",
    "    plt.plot(x, urban_grouped[\"proportion_vacc\"], color='#7f6d5f', label='Urban')\n",
    "    plt.plot(x, rural_grouped[\"proportion_vacc\"], color='#557f2d', label='Rural')\n",
    "    plt.title(f\"Average Regional Vaccination over Time, percent_choice = {percent}%\") \n",
    "    plt.xlabel(\"Season\")\n",
    "    plt.ylabel(\"Vaccination Rate\")\n",
    "    plt.legend(loc=\"best\")\n",
    "    \n",
    "    plt.savefig(f'fixed_percent_images/seasonal_fig_{percent}.png', bbox_inches='tight')\n",
    "    plt.clf()"
   ]
  },
  {
   "cell_type": "code",
   "execution_count": null,
   "metadata": {},
   "outputs": [],
   "source": [
    "#basepath = os.path.dirname(os.path.abspath(__file__))\n",
    "#filepath = basepath + \"/experiment_data.log\"\n",
    "base_df = import_and_clean(\"experiment_data.log\")\n",
    "base_df = base_df.loc[base_df[\"data_flag\"] == \"seasonal_data\"]\n",
    "print(base_df.shape)\n",
    "base_df.head()"
   ]
  },
  {
   "cell_type": "code",
   "execution_count": null,
   "metadata": {},
   "outputs": [],
   "source": [
    "urban_grouped = base_df.query(\"hub_density==12\").groupby([\"season\"]).mean()\n",
    "rural_grouped = base_df.query(\"hub_density==8\").groupby([\"season\"]).mean()\n",
    "x = urban_grouped.index\n",
    "\n",
    "\n",
    "urban_grouped = base_df.query(\"hub_density==12\").groupby([\"season\"]).mean()\n",
    "rural_grouped = base_df.query(\"hub_density==8\").groupby([\"season\"]).mean()\n",
    "x = urban_grouped.index\n",
    "\n",
    "\n",
    "plt.plot(x, urban_grouped[\"proportion_vacc\"], color='#7f6d5f', label='Urban')\n",
    "plt.plot(x, rural_grouped[\"proportion_vacc\"], color='#557f2d', label='Rural')\n",
    "plt.title(\"Average Regional Vaccination over Time\") \n",
    "plt.xlabel(\"Season\")\n",
    "plt.ylabel(\"Vaccination Rate\")\n",
    "plt.legend(loc=\"best\")"
   ]
  },
  {
   "cell_type": "code",
   "execution_count": null,
   "metadata": {},
   "outputs": [],
   "source": []
  }
 ],
 "metadata": {
  "kernelspec": {
   "display_name": "Python 3",
   "language": "python",
   "name": "python3"
  },
  "language_info": {
   "codemirror_mode": {
    "name": "ipython",
    "version": 3
   },
   "file_extension": ".py",
   "mimetype": "text/x-python",
   "name": "python",
   "nbconvert_exporter": "python",
   "pygments_lexer": "ipython3",
   "version": "3.8.5"
  },
  "toc": {
   "base_numbering": 1,
   "nav_menu": {},
   "number_sections": true,
   "sideBar": true,
   "skip_h1_title": false,
   "title_cell": "Table of Contents",
   "title_sidebar": "Contents",
   "toc_cell": false,
   "toc_position": {},
   "toc_section_display": true,
   "toc_window_display": false
  }
 },
 "nbformat": 4,
 "nbformat_minor": 4
}
