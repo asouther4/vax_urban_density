{
 "cells": [
  {
   "cell_type": "markdown",
   "metadata": {},
   "source": [
    "# Testing Network Structure\n",
    "\n",
    "**Author: Andrew Souther, Date: October 2020**\n",
    "\n",
    "**To get started, we import a few packages for this notebook**\n",
    "\n",
    "We use pandas to work with json data in an efficient way and matplotlib/seaborn are for plotting."
   ]
  },
  {
   "cell_type": "code",
   "execution_count": 2,
   "metadata": {},
   "outputs": [],
   "source": [
    "%matplotlib inline\n",
    "#importing all the packages we need\n",
    "import pandas as pd\n",
    "import matplotlib.pyplot as plt\n",
    "import seaborn as sns\n",
    "import random\n",
    "\n",
    "import csv\n",
    "from operator import itemgetter\n",
    "import networkx as nx\n",
    "from networkx.algorithms import community"
   ]
  },
  {
   "cell_type": "markdown",
   "metadata": {},
   "source": [
    "Next, import the whole experiment_data log file into one big dataframe."
   ]
  },
  {
   "cell_type": "code",
   "execution_count": 3,
   "metadata": {},
   "outputs": [
    {
     "name": "stdout",
     "output_type": "stream",
     "text": [
      "(300, 10)\n"
     ]
    },
    {
     "data": {
      "text/html": [
       "<div>\n",
       "<style scoped>\n",
       "    .dataframe tbody tr th:only-of-type {\n",
       "        vertical-align: middle;\n",
       "    }\n",
       "\n",
       "    .dataframe tbody tr th {\n",
       "        vertical-align: top;\n",
       "    }\n",
       "\n",
       "    .dataframe thead th {\n",
       "        text-align: right;\n",
       "    }\n",
       "</style>\n",
       "<table border=\"1\" class=\"dataframe\">\n",
       "  <thead>\n",
       "    <tr style=\"text-align: right;\">\n",
       "      <th></th>\n",
       "      <th>hub</th>\n",
       "      <th>hub_size</th>\n",
       "      <th>hub_density</th>\n",
       "      <th>recovered</th>\n",
       "      <th>unvaccinated</th>\n",
       "      <th>season</th>\n",
       "      <th>data_flag</th>\n",
       "      <th>simulation_id</th>\n",
       "      <th>run_number</th>\n",
       "      <th>timestamp</th>\n",
       "    </tr>\n",
       "  </thead>\n",
       "  <tbody>\n",
       "    <tr>\n",
       "      <th>0</th>\n",
       "      <td>0</td>\n",
       "      <td>50</td>\n",
       "      <td>4</td>\n",
       "      <td>33</td>\n",
       "      <td>38</td>\n",
       "      <td>0</td>\n",
       "      <td>seasonal_data</td>\n",
       "      <td>2</td>\n",
       "      <td>0</td>\n",
       "      <td>2020-10-17 13:10:05.894432+00:00</td>\n",
       "    </tr>\n",
       "    <tr>\n",
       "      <th>1</th>\n",
       "      <td>1</td>\n",
       "      <td>50</td>\n",
       "      <td>4</td>\n",
       "      <td>32</td>\n",
       "      <td>40</td>\n",
       "      <td>0</td>\n",
       "      <td>seasonal_data</td>\n",
       "      <td>2</td>\n",
       "      <td>0</td>\n",
       "      <td>2020-10-17 13:10:05.895453+00:00</td>\n",
       "    </tr>\n",
       "    <tr>\n",
       "      <th>2</th>\n",
       "      <td>2</td>\n",
       "      <td>50</td>\n",
       "      <td>4</td>\n",
       "      <td>2</td>\n",
       "      <td>41</td>\n",
       "      <td>0</td>\n",
       "      <td>seasonal_data</td>\n",
       "      <td>2</td>\n",
       "      <td>0</td>\n",
       "      <td>2020-10-17 13:10:05.895453+00:00</td>\n",
       "    </tr>\n",
       "    <tr>\n",
       "      <th>3</th>\n",
       "      <td>3</td>\n",
       "      <td>50</td>\n",
       "      <td>4</td>\n",
       "      <td>1</td>\n",
       "      <td>42</td>\n",
       "      <td>0</td>\n",
       "      <td>seasonal_data</td>\n",
       "      <td>2</td>\n",
       "      <td>0</td>\n",
       "      <td>2020-10-17 13:10:05.895453+00:00</td>\n",
       "    </tr>\n",
       "    <tr>\n",
       "      <th>4</th>\n",
       "      <td>4</td>\n",
       "      <td>50</td>\n",
       "      <td>4</td>\n",
       "      <td>35</td>\n",
       "      <td>44</td>\n",
       "      <td>0</td>\n",
       "      <td>seasonal_data</td>\n",
       "      <td>2</td>\n",
       "      <td>0</td>\n",
       "      <td>2020-10-17 13:10:05.901482+00:00</td>\n",
       "    </tr>\n",
       "  </tbody>\n",
       "</table>\n",
       "</div>"
      ],
      "text/plain": [
       "   hub  hub_size  hub_density  recovered  unvaccinated  season      data_flag  \\\n",
       "0    0        50            4         33            38       0  seasonal_data   \n",
       "1    1        50            4         32            40       0  seasonal_data   \n",
       "2    2        50            4          2            41       0  seasonal_data   \n",
       "3    3        50            4          1            42       0  seasonal_data   \n",
       "4    4        50            4         35            44       0  seasonal_data   \n",
       "\n",
       "   simulation_id  run_number                        timestamp  \n",
       "0              2           0 2020-10-17 13:10:05.894432+00:00  \n",
       "1              2           0 2020-10-17 13:10:05.895453+00:00  \n",
       "2              2           0 2020-10-17 13:10:05.895453+00:00  \n",
       "3              2           0 2020-10-17 13:10:05.895453+00:00  \n",
       "4              2           0 2020-10-17 13:10:05.901482+00:00  "
      ]
     },
     "execution_count": 3,
     "metadata": {},
     "output_type": "execute_result"
    }
   ],
   "source": [
    "df = pd.read_json(\"experiment_data.log\", lines=True)\n",
    "print(df.shape)\n",
    "df.head(5)"
   ]
  },
  {
   "cell_type": "markdown",
   "metadata": {},
   "source": [
    "## Understanding Homophily across \"Urban\" and \"Rural\" Areas"
   ]
  },
  {
   "cell_type": "code",
   "execution_count": 11,
   "metadata": {},
   "outputs": [
    {
     "name": "stdout",
     "output_type": "stream",
     "text": [
      "Average proportion of within-hub matching for 'rural' areas:  0.9658666666666663\n",
      "Average proportion of within-hub matchinf for 'urban' areas:  0.9532920229945928\n",
      "Averages taken from 20 runs of a 1000-agent simulation\n",
      "Agents were divded into ten hubs, five 'rural' and five 'urban'\n",
      "Rural hubs had 50 agents and 3 contacts per agent, urban had 150 and 7 contacts\n"
     ]
    }
   ],
   "source": [
    "homophily_df = df.loc[df['data_flag'] == 'homophily']\n",
    "homophily_df = homophily_df[['avg_rural_homophily', 'avg_urban_homophily', 'run_number']]\n",
    "\n",
    "rural_homophily = homophily_df['avg_rural_homophily'].mean()\n",
    "urban_homophily = homophily_df['avg_urban_homophily'].mean()\n",
    "\n",
    "print(\"Average proportion of within-hub matching for 'rural' areas: \", rural_homophily)\n",
    "print(\"Average proportion of within-hub matchinf for 'urban' areas: \", urban_homophily)\n",
    "print(\"Averages taken from 20 runs of a 1000-agent simulation\")\n",
    "print(\"Agents were divded into ten hubs, five 'rural' and five 'urban'\")\n",
    "print(\"Rural hubs had 50 agents and 3 contacts per agent, urban had 150 and 7 contacts\")"
   ]
  },
  {
   "cell_type": "markdown",
   "metadata": {},
   "source": [
    "## Network Visualization"
   ]
  },
  {
   "cell_type": "code",
   "execution_count": 37,
   "metadata": {},
   "outputs": [
    {
     "data": {
      "text/html": [
       "<div>\n",
       "<style scoped>\n",
       "    .dataframe tbody tr th:only-of-type {\n",
       "        vertical-align: middle;\n",
       "    }\n",
       "\n",
       "    .dataframe tbody tr th {\n",
       "        vertical-align: top;\n",
       "    }\n",
       "\n",
       "    .dataframe thead th {\n",
       "        text-align: right;\n",
       "    }\n",
       "</style>\n",
       "<table border=\"1\" class=\"dataframe\">\n",
       "  <thead>\n",
       "    <tr style=\"text-align: right;\">\n",
       "      <th></th>\n",
       "      <th>agent</th>\n",
       "      <th>type</th>\n",
       "    </tr>\n",
       "  </thead>\n",
       "  <tbody>\n",
       "    <tr>\n",
       "      <th>660</th>\n",
       "      <td>ActorAddr-/A~a~a~c</td>\n",
       "      <td>rural</td>\n",
       "    </tr>\n",
       "    <tr>\n",
       "      <th>665</th>\n",
       "      <td>ActorAddr-/A~a~a~d</td>\n",
       "      <td>rural</td>\n",
       "    </tr>\n",
       "    <tr>\n",
       "      <th>670</th>\n",
       "      <td>ActorAddr-/A~a~a~e</td>\n",
       "      <td>rural</td>\n",
       "    </tr>\n",
       "    <tr>\n",
       "      <th>675</th>\n",
       "      <td>ActorAddr-/A~a~a~f</td>\n",
       "      <td>rural</td>\n",
       "    </tr>\n",
       "    <tr>\n",
       "      <th>680</th>\n",
       "      <td>ActorAddr-/A~a~a~g</td>\n",
       "      <td>rural</td>\n",
       "    </tr>\n",
       "    <tr>\n",
       "      <th>...</th>\n",
       "      <td>...</td>\n",
       "      <td>...</td>\n",
       "    </tr>\n",
       "    <tr>\n",
       "      <th>7872</th>\n",
       "      <td>ActorAddr-/A~a~a~tj</td>\n",
       "      <td>urban</td>\n",
       "    </tr>\n",
       "    <tr>\n",
       "      <th>7878</th>\n",
       "      <td>ActorAddr-/A~a~a~tk</td>\n",
       "      <td>urban</td>\n",
       "    </tr>\n",
       "    <tr>\n",
       "      <th>7886</th>\n",
       "      <td>ActorAddr-/A~a~a~tl</td>\n",
       "      <td>urban</td>\n",
       "    </tr>\n",
       "    <tr>\n",
       "      <th>7893</th>\n",
       "      <td>ActorAddr-/A~a~a~tm</td>\n",
       "      <td>urban</td>\n",
       "    </tr>\n",
       "    <tr>\n",
       "      <th>7901</th>\n",
       "      <td>ActorAddr-/A~a~a~tn</td>\n",
       "      <td>urban</td>\n",
       "    </tr>\n",
       "  </tbody>\n",
       "</table>\n",
       "<p>1000 rows × 2 columns</p>\n",
       "</div>"
      ],
      "text/plain": [
       "                    agent   type\n",
       "660    ActorAddr-/A~a~a~c  rural\n",
       "665    ActorAddr-/A~a~a~d  rural\n",
       "670    ActorAddr-/A~a~a~e  rural\n",
       "675    ActorAddr-/A~a~a~f  rural\n",
       "680    ActorAddr-/A~a~a~g  rural\n",
       "...                   ...    ...\n",
       "7872  ActorAddr-/A~a~a~tj  urban\n",
       "7878  ActorAddr-/A~a~a~tk  urban\n",
       "7886  ActorAddr-/A~a~a~tl  urban\n",
       "7893  ActorAddr-/A~a~a~tm  urban\n",
       "7901  ActorAddr-/A~a~a~tn  urban\n",
       "\n",
       "[1000 rows x 2 columns]"
      ]
     },
     "execution_count": 37,
     "metadata": {},
     "output_type": "execute_result"
    }
   ],
   "source": [
    "edges_df = df.loc[df[\"data_flag\"] == \"network\"]\n",
    "edges_df = edges_df[[\"source\", \"target\"]]\n",
    "\n",
    "\n",
    "nodes_df = df.loc[df[\"data_flag\"] == \"hub\"]\n",
    "nodes_df = nodes_df[[\"agent\", \"type\"]]\n",
    "\n",
    "\n",
    "nodes_df"
   ]
  },
  {
   "cell_type": "code",
   "execution_count": 38,
   "metadata": {},
   "outputs": [
    {
     "name": "stdout",
     "output_type": "stream",
     "text": [
      "1000\n",
      "6246\n"
     ]
    }
   ],
   "source": [
    "nodes_df.to_csv('nodelist.csv', index=False)\n",
    "edges_df.to_csv('edgelist.csv', index=False)\n",
    "\n",
    "with open('nodelist.csv', 'r') as nodecsv: # Open the file\n",
    "    nodereader = csv.reader(nodecsv) # Read the csv\n",
    "    # Retrieve the data (using Python list comprhension and list slicing to remove the header row, see footnote 3)\n",
    "    nodes = [n for n in nodereader][1:]\n",
    "\n",
    "node_names = [n[0] for n in nodes] # Get a list of only the node names\n",
    "\n",
    "with open('edgelist.csv', 'r') as edgecsv: # Open the file\n",
    "    edgereader = csv.reader(edgecsv) # Read the csv\n",
    "    edges = [tuple(e) for e in edgereader][1:] # Retrieve the data\n",
    "    \n",
    "print(len(node_names))\n",
    "print(len(edges))"
   ]
  },
  {
   "cell_type": "markdown",
   "metadata": {},
   "source": [
    "Next, we graph it."
   ]
  },
  {
   "cell_type": "code",
   "execution_count": 39,
   "metadata": {},
   "outputs": [
    {
     "name": "stdout",
     "output_type": "stream",
     "text": [
      "Name: \n",
      "Type: Graph\n",
      "Number of nodes: 1000\n",
      "Number of edges: 3123\n",
      "Average degree:   6.2460\n"
     ]
    }
   ],
   "source": [
    "G = nx.Graph()\n",
    "G.add_nodes_from(node_names)\n",
    "G.add_edges_from(edges)\n",
    "print(nx.info(G))"
   ]
  },
  {
   "cell_type": "code",
   "execution_count": 40,
   "metadata": {},
   "outputs": [],
   "source": [
    "hub_dict = {}\n",
    "for node in nodes: # Loop through the list, one row at a time\n",
    "    hub_dict[node[0]] = node[1]\n",
    "\n",
    "nx.set_node_attributes(G, hub_dict, 'type')"
   ]
  },
  {
   "cell_type": "code",
   "execution_count": 41,
   "metadata": {},
   "outputs": [],
   "source": [
    "nx.write_gexf(G, 'urban_vs_rural.gexf')"
   ]
  },
  {
   "cell_type": "code",
   "execution_count": 33,
   "metadata": {},
   "outputs": [
    {
     "name": "stdout",
     "output_type": "stream",
     "text": [
      "('ActorAddr-/A~a~a~c', 4)\n",
      "('ActorAddr-/A~a~a~d', 4)\n",
      "('ActorAddr-/A~a~a~e', 4)\n",
      "('ActorAddr-/A~a~a~f', 4)\n",
      "('ActorAddr-/A~a~a~g', 4)\n",
      "('ActorAddr-/A~a~a~h', 4)\n",
      "('ActorAddr-/A~a~a~i', 4)\n",
      "('ActorAddr-/A~a~a~j', 4)\n",
      "('ActorAddr-/A~a~a~k', 4)\n",
      "('ActorAddr-/A~a~a~l', 4)\n",
      "('ActorAddr-/A~a~a~m', 4)\n",
      "('ActorAddr-/A~a~a~n', 4)\n",
      "('ActorAddr-/A~a~a~o', 4)\n",
      "('ActorAddr-/A~a~a~p', 4)\n",
      "('ActorAddr-/A~a~a~q', 4)\n",
      "('ActorAddr-/A~a~a~r', 4)\n",
      "('ActorAddr-/A~a~a~s', 4)\n",
      "('ActorAddr-/A~a~a~t', 4)\n",
      "('ActorAddr-/A~a~a~u', 4)\n",
      "('ActorAddr-/A~a~a~v', 4)\n",
      "('ActorAddr-/A~a~a~w', 4)\n",
      "('ActorAddr-/A~a~a~x', 4)\n",
      "('ActorAddr-/A~a~a~y', 4)\n",
      "('ActorAddr-/A~a~a~z', 4)\n",
      "('ActorAddr-/A~a~a~A', 4)\n",
      "('ActorAddr-/A~a~a~B', 4)\n",
      "('ActorAddr-/A~a~a~C', 4)\n",
      "('ActorAddr-/A~a~a~D', 4)\n",
      "('ActorAddr-/A~a~a~E', 4)\n",
      "('ActorAddr-/A~a~a~F', 4)\n",
      "('ActorAddr-/A~a~a~G', 4)\n",
      "('ActorAddr-/A~a~a~H', 4)\n",
      "('ActorAddr-/A~a~a~I', 4)\n",
      "('ActorAddr-/A~a~a~J', 4)\n",
      "('ActorAddr-/A~a~a~K', 4)\n",
      "('ActorAddr-/A~a~a~L', 4)\n",
      "('ActorAddr-/A~a~a~M', 4)\n",
      "('ActorAddr-/A~a~a~N', 4)\n",
      "('ActorAddr-/A~a~a~O', 4)\n",
      "('ActorAddr-/A~a~a~P', 4)\n",
      "('ActorAddr-/A~a~a~Q', 4)\n",
      "('ActorAddr-/A~a~a~R', 4)\n",
      "('ActorAddr-/A~a~a~S', 4)\n",
      "('ActorAddr-/A~a~a~T', 4)\n",
      "('ActorAddr-/A~a~a~U', 4)\n",
      "('ActorAddr-/A~a~a~V', 4)\n",
      "('ActorAddr-/A~a~a~W', 4)\n",
      "('ActorAddr-/A~a~a~X', 4)\n",
      "('ActorAddr-/A~a~a~Y', 4)\n",
      "('ActorAddr-/A~a~a~Z', 4)\n"
     ]
    }
   ],
   "source": [
    "degree_dict = dict(G.degree(G.nodes()))\n",
    "nx.set_node_attributes(G, degree_dict, 'degree')\n",
    "sorted_degree = sorted(degree_dict.items(), key=itemgetter(1), reverse=False)\n",
    "for d in sorted_degree[:50]:\n",
    "    print(d)"
   ]
  },
  {
   "cell_type": "markdown",
   "metadata": {},
   "source": [
    "## Exploring Seasonal  Data"
   ]
  },
  {
   "cell_type": "code",
   "execution_count": 5,
   "metadata": {},
   "outputs": [
    {
     "data": {
      "text/html": [
       "<div>\n",
       "<style scoped>\n",
       "    .dataframe tbody tr th:only-of-type {\n",
       "        vertical-align: middle;\n",
       "    }\n",
       "\n",
       "    .dataframe tbody tr th {\n",
       "        vertical-align: top;\n",
       "    }\n",
       "\n",
       "    .dataframe thead th {\n",
       "        text-align: right;\n",
       "    }\n",
       "</style>\n",
       "<table border=\"1\" class=\"dataframe\">\n",
       "  <thead>\n",
       "    <tr style=\"text-align: right;\">\n",
       "      <th></th>\n",
       "      <th>hub</th>\n",
       "      <th>hub_size</th>\n",
       "      <th>hub_density</th>\n",
       "      <th>recovered</th>\n",
       "      <th>unvaccinated</th>\n",
       "      <th>season</th>\n",
       "      <th>proportion_vaccinated</th>\n",
       "    </tr>\n",
       "  </thead>\n",
       "  <tbody>\n",
       "    <tr>\n",
       "      <th>0</th>\n",
       "      <td>0</td>\n",
       "      <td>50</td>\n",
       "      <td>4</td>\n",
       "      <td>33</td>\n",
       "      <td>38</td>\n",
       "      <td>0</td>\n",
       "      <td>0.24</td>\n",
       "    </tr>\n",
       "    <tr>\n",
       "      <th>1</th>\n",
       "      <td>1</td>\n",
       "      <td>50</td>\n",
       "      <td>4</td>\n",
       "      <td>32</td>\n",
       "      <td>40</td>\n",
       "      <td>0</td>\n",
       "      <td>0.20</td>\n",
       "    </tr>\n",
       "    <tr>\n",
       "      <th>2</th>\n",
       "      <td>2</td>\n",
       "      <td>50</td>\n",
       "      <td>4</td>\n",
       "      <td>2</td>\n",
       "      <td>41</td>\n",
       "      <td>0</td>\n",
       "      <td>0.18</td>\n",
       "    </tr>\n",
       "    <tr>\n",
       "      <th>3</th>\n",
       "      <td>3</td>\n",
       "      <td>50</td>\n",
       "      <td>4</td>\n",
       "      <td>1</td>\n",
       "      <td>42</td>\n",
       "      <td>0</td>\n",
       "      <td>0.16</td>\n",
       "    </tr>\n",
       "    <tr>\n",
       "      <th>4</th>\n",
       "      <td>4</td>\n",
       "      <td>50</td>\n",
       "      <td>4</td>\n",
       "      <td>35</td>\n",
       "      <td>44</td>\n",
       "      <td>0</td>\n",
       "      <td>0.12</td>\n",
       "    </tr>\n",
       "  </tbody>\n",
       "</table>\n",
       "</div>"
      ],
      "text/plain": [
       "   hub  hub_size  hub_density  recovered  unvaccinated  season  \\\n",
       "0    0        50            4         33            38       0   \n",
       "1    1        50            4         32            40       0   \n",
       "2    2        50            4          2            41       0   \n",
       "3    3        50            4          1            42       0   \n",
       "4    4        50            4         35            44       0   \n",
       "\n",
       "   proportion_vaccinated  \n",
       "0                   0.24  \n",
       "1                   0.20  \n",
       "2                   0.18  \n",
       "3                   0.16  \n",
       "4                   0.12  "
      ]
     },
     "execution_count": 5,
     "metadata": {},
     "output_type": "execute_result"
    }
   ],
   "source": [
    "seasonal_df = df.loc[df[\"data_flag\"] == \"seasonal_data\"]\n",
    "seasonal_df1 = seasonal_df.loc[seasonal_df[\"simulation_id\"]==1]\n",
    "seasonal_df1 = seasonal_df1.reset_index()\n",
    "seasonal_df1 = seasonal_df1[[\"hub\", \"hub_size\", \"hub_density\", \"recovered\", \"unvaccinated\", \"season\"]]\n",
    "seasonal_df1[\"proportion_vaccinated\"] = 1 - (seasonal_df1[\"unvaccinated\"] / seasonal_df1[\"hub_size\"])\n",
    "\n",
    "seasonal_df2 = seasonal_df.loc[seasonal_df[\"simulation_id\"]==2]\n",
    "seasonal_df2 = seasonal_df2.reset_index()\n",
    "seasonal_df2 = seasonal_df2[[\"hub\", \"hub_size\", \"hub_density\", \"recovered\", \"unvaccinated\", \"season\"]]\n",
    "seasonal_df2[\"proportion_vaccinated\"] = 1 - (seasonal_df2[\"unvaccinated\"] / seasonal_df2[\"hub_size\"])\n",
    "seasonal_df2.head()"
   ]
  },
  {
   "cell_type": "code",
   "execution_count": 7,
   "metadata": {},
   "outputs": [
    {
     "data": {
      "text/plain": [
       "Text(0.5, 1.0, 'Average Vaccination Rate per Region in Each Epidemic Season')"
      ]
     },
     "execution_count": 7,
     "metadata": {},
     "output_type": "execute_result"
    },
    {
     "data": {
      "image/png": "[encoded data removed]",
      "text/plain": [
       "<Figure size 432x288 with 1 Axes>"
      ]
     },
     "metadata": {
      "needs_background": "light"
     },
     "output_type": "display_data"
    }
   ],
   "source": [
    "x_values = []\n",
    "for i in df['season'].unique():\n",
    "    for j in range(int(len(df['hub'].unique())/2)):\n",
    "        x_values.append(int(i))\n",
    "        \n",
    "urban_prop_vaccinated1 = seasonal_df1[\"proportion_vaccinated\"].loc[seasonal_df1[\"hub_density\"]==7]\n",
    "rural_prop_vaccinated1 = seasonal_df1[\"proportion_vaccinated\"].loc[seasonal_df1[\"hub_density\"]==4]\n",
    "\n",
    "barWidth = 0.40\n",
    "r1 = x_values\n",
    "r2 = [x + barWidth for x in x_values]\n",
    "# Make the plot\n",
    "plt.bar(r1, urban_prop_vaccinated1, color='#7f6d5f', width=barWidth, edgecolor='white', label='Urban')\n",
    "plt.bar(r2, rural_prop_vaccinated1, color='#557f2d', width=barWidth,  edgecolor='white', label='Rural')\n",
    "plt.legend(loc='best')\n",
    "plt.xlabel(\"Season\")\n",
    "plt.ylabel(\"Vaccination Rate\")\n",
    "plt.title(\"Average Vaccination Rate per Region in Each Epidemic Season\")"
   ]
  },
  {
   "cell_type": "code",
   "execution_count": 8,
   "metadata": {},
   "outputs": [
    {
     "data": {
      "text/plain": [
       "Text(0.5, 1.0, 'Average Vaccination Rate per Region in Each Epidemic Season')"
      ]
     },
     "execution_count": 8,
     "metadata": {},
     "output_type": "execute_result"
    },
    {
     "data": {
      "image/png": "[encoded data removed]",
      "text/plain": [
       "<Figure size 432x288 with 1 Axes>"
      ]
     },
     "metadata": {
      "needs_background": "light"
     },
     "output_type": "display_data"
    }
   ],
   "source": [
    "x_values = []\n",
    "for i in df['season'].unique():\n",
    "    for j in range(int(len(df['hub'].unique())/2)):\n",
    "        x_values.append(int(i))\n",
    "        \n",
    "urban_prop_vaccinated2 = seasonal_df2[\"proportion_vaccinated\"].loc[seasonal_df2[\"hub_density\"]==7]\n",
    "rural_prop_vaccinated2 = seasonal_df2[\"proportion_vaccinated\"].loc[seasonal_df2[\"hub_density\"]==4]\n",
    "\n",
    "barWidth = 0.40\n",
    "r1 = x_values\n",
    "r2 = [x + barWidth for x in x_values]\n",
    "# Make the plot\n",
    "plt.bar(r1, urban_prop_vaccinated2, color='#7f6d5f', width=barWidth, edgecolor='white', label='Urban')\n",
    "plt.bar(r2, rural_prop_vaccinated2, color='#557f2d', width=barWidth,  edgecolor='white', label='Rural')\n",
    "plt.legend(loc='best')\n",
    "plt.xlabel(\"Season\")\n",
    "plt.ylabel(\"Vaccination Rate\")\n",
    "plt.title(\"Average Vaccination Rate per Region in Each Epidemic Season\")"
   ]
  },
  {
   "cell_type": "code",
   "execution_count": 70,
   "metadata": {},
   "outputs": [
    {
     "data": {
      "text/plain": [
       "Text(0.5, 1.0, 'Average Vaccination Rate per Region in Each Epidemic Season')"
      ]
     },
     "execution_count": 70,
     "metadata": {},
     "output_type": "execute_result"
    },
    {
     "data": {
      "image/png": "[encoded data removed]",
      "text/plain": [
       "<Figure size 432x288 with 1 Axes>"
      ]
     },
     "metadata": {
      "needs_background": "light"
     },
     "output_type": "display_data"
    }
   ],
   "source": [
    "x_values = seasonal_df['season'].unique()\n",
    "#barWidth = 0.25\n",
    "r1 = x_values\n",
    "#r2 = [x + barWidth for x in r1]\n",
    "\n",
    "urban_vaccination_averages = \\\n",
    "                        (seasonal_df.loc[seasonal_df[\"hub_density\"]==7].groupby(by=[\"season\"]).mean())[\"proportion_vaccinated\"] \n",
    "rural_vaccination_averages = \\\n",
    "                        (seasonal_df.loc[seasonal_df[\"hub_density\"]==4].groupby(by=[\"season\"]).mean())[\"proportion_vaccinated\"] \n",
    "\n",
    "plt.plot(r1, urban_vaccination_averages, color='#7f6d5f', label='Urban')\n",
    "plt.plot(r2, rural_vaccination_averages, color='#557f2d', label='Rural')\n",
    "plt.legend(loc='best')\n",
    "plt.title(\"Average Vaccination Rate per Region in Each Epidemic Season\")"
   ]
  },
  {
   "cell_type": "code",
   "execution_count": 60,
   "metadata": {},
   "outputs": [
    {
     "data": {
      "text/plain": [
       "Text(0.5, 1.0, 'Proportion Vaccinated in Every Season Across Hub Densities')"
      ]
     },
     "execution_count": 60,
     "metadata": {},
     "output_type": "execute_result"
    },
    {
     "data": {
      "image/png": "[encoded data removed]",
      "text/plain": [
       "<Figure size 432x288 with 1 Axes>"
      ]
     },
     "metadata": {
      "needs_background": "light"
     },
     "output_type": "display_data"
    }
   ],
   "source": [
    "ax =  sns.boxplot(x=\"hub_density\", y=\"proportion_vaccinated\", data=seasonal_df)\n",
    "ax.set_title(\"Proportion Vaccinated in Every Season Across Hub Densities\")"
   ]
  },
  {
   "cell_type": "code",
   "execution_count": null,
   "metadata": {},
   "outputs": [],
   "source": []
  },
  {
   "cell_type": "markdown",
   "metadata": {},
   "source": [
    "## Epidemiology Stuff"
   ]
  },
  {
   "cell_type": "code",
   "execution_count": 3,
   "metadata": {},
   "outputs": [
    {
     "name": "stdout",
     "output_type": "stream",
     "text": [
      "Shape of Treatment 1 Dataframe: (1294, 18)\n",
      "Shape of Treatment 2 Dataframe: (0, 18)\n",
      "Shape of Treatment 3 Dataframe: (0, 18)\n"
     ]
    }
   ],
   "source": [
    "#group and average out the data for the first treatment\n",
    "df1 = df.loc[df[\"simulation_id\"] == 1]\n",
    "print(\"Shape of Treatment 1 Dataframe:\", df1.shape) #print the shape to get a sense of their size\n",
    "\n",
    "#group and average out the data for the second treatment\n",
    "df2 = df.loc[df[\"simulation_id\"] == 2]\n",
    "print(\"Shape of Treatment 2 Dataframe:\", df2.shape) #print the shape to get a sense of their size\n",
    "\n",
    "#group and average out the data for the second treatment\n",
    "df3 = df.loc[df[\"simulation_id\"] == 3]\n",
    "print(\"Shape of Treatment 3 Dataframe:\", df3.shape) #print the shape to get a sense of their size"
   ]
  },
  {
   "cell_type": "code",
   "execution_count": 13,
   "metadata": {},
   "outputs": [
    {
     "data": {
      "text/plain": [
       "(5, 13)"
      ]
     },
     "execution_count": 13,
     "metadata": {},
     "output_type": "execute_result"
    }
   ],
   "source": [
    "df1 = df1.loc[df1[\"data_flag\"]==\"infection\"]\n",
    "df1.shape"
   ]
  },
  {
   "cell_type": "markdown",
   "metadata": {},
   "source": [
    "Now, we'll export all four of these datasets into four separate CSVs. "
   ]
  },
  {
   "cell_type": "code",
   "execution_count": 4,
   "metadata": {
    "scrolled": true
   },
   "outputs": [
    {
     "data": {
      "text/plain": [
       "Text(0.5, 1.0, 'State of the Epidemic over Time, vaccination=0%, n=1000')"
      ]
     },
     "execution_count": 4,
     "metadata": {},
     "output_type": "execute_result"
    },
    {
     "data": {
      "image/png": "[encoded data removed]",
      "text/plain": [
       "<Figure size 432x288 with 1 Axes>"
      ]
     },
     "metadata": {
      "needs_background": "light"
     },
     "output_type": "display_data"
    }
   ],
   "source": [
    "#graph the average number of agents in each state over time for Treatment 1\n",
    "plt.plot(df1.index, df1[\"current_susceptible\"], label=\"S(t)\")\n",
    "plt.plot(df1.index, df1[\"current_exposed\"], label=\"E(t)\")\n",
    "plt.plot(df1.index, df1[\"current_infections\"], label=\"I(t)\")\n",
    "plt.plot(df1.index, df1[\"current_recovered\"], label=\"R(t)\")\n",
    "plt.plot(df1.index, df1[\"current_vaccinated\"], label=\"V(t)\")\n",
    "plt.grid()\n",
    "plt.legend()\n",
    "plt.xlabel(\"Time\")\n",
    "plt.ylabel(\"Number of Agents in Each State\")\n",
    "plt.title(\"State of the Epidemic over Time, vaccination=0%, n=1000\")"
   ]
  },
  {
   "cell_type": "code",
   "execution_count": 25,
   "metadata": {},
   "outputs": [
    {
     "data": {
      "text/plain": [
       "Text(0.5, 1.0, 'State of the Epidemic over Time, vaccination=25%, n=1000')"
      ]
     },
     "execution_count": 25,
     "metadata": {},
     "output_type": "execute_result"
    },
    {
     "data": {
      "image/png": "[encoded data removed]",
      "text/plain": [
       "<Figure size 432x288 with 1 Axes>"
      ]
     },
     "metadata": {
      "needs_background": "light"
     },
     "output_type": "display_data"
    }
   ],
   "source": [
    "#graph the average number of agents in each state over time for Treatment 2\n",
    "plt.plot(df2.index, df2[\"current_susceptible\"], label=\"S(t)\")\n",
    "plt.plot(df2.index, df2[\"current_exposed\"], label=\"E(t)\")\n",
    "plt.plot(df2.index, df2[\"current_infections\"], label=\"I(t)\")\n",
    "plt.plot(df2.index, df2[\"current_recovered\"], label=\"R(t)\")\n",
    "plt.plot(df2.index, df2[\"current_vaccinated\"], label=\"V(t)\")\n",
    "plt.ylim(0, 1000)\n",
    "plt.grid()\n",
    "plt.legend()\n",
    "plt.xlabel(\"Time\")\n",
    "plt.ylabel(\"Number of Agents in Each State\")\n",
    "plt.title(\"State of the Epidemic over Time, vaccination=25%, n=1000\")"
   ]
  },
  {
   "cell_type": "code",
   "execution_count": 26,
   "metadata": {},
   "outputs": [
    {
     "data": {
      "text/plain": [
       "Text(0.5, 1.0, 'State of the Epidemic over Time, vaccination=50%, n=1000')"
      ]
     },
     "execution_count": 26,
     "metadata": {},
     "output_type": "execute_result"
    },
    {
     "data": {
      "image/png": "[encoded data removed]",
      "text/plain": [
       "<Figure size 432x288 with 1 Axes>"
      ]
     },
     "metadata": {
      "needs_background": "light"
     },
     "output_type": "display_data"
    }
   ],
   "source": [
    "#graph the average number of agents in each state over time for Treatment 3\n",
    "plt.plot(df3.index, df3[\"current_susceptible\"], label=\"S(t)\")\n",
    "plt.plot(df3.index, df3[\"current_exposed\"], label=\"E(t)\")\n",
    "plt.plot(df3.index, df3[\"current_infections\"], label=\"I(t)\")\n",
    "plt.plot(df3.index, df3[\"current_recovered\"], label=\"R(t)\")\n",
    "plt.plot(df3.index, df3[\"current_vaccinated\"], label=\"V(t)\")\n",
    "plt.ylim(0, 1000)\n",
    "plt.grid()\n",
    "plt.legend()\n",
    "plt.xlabel(\"Time\")\n",
    "plt.ylabel(\"Number of Agents in Each State\")\n",
    "plt.title(\"State of the Epidemic over Time, vaccination=50%, n=1000\")"
   ]
  },
  {
   "cell_type": "code",
   "execution_count": null,
   "metadata": {},
   "outputs": [],
   "source": []
  }
 ],
 "metadata": {
  "kernelspec": {
   "display_name": "Python 3",
   "language": "python",
   "name": "python3"
  },
  "language_info": {
   "codemirror_mode": {
    "name": "ipython",
    "version": 3
   },
   "file_extension": ".py",
   "mimetype": "text/x-python",
   "name": "python",
   "nbconvert_exporter": "python",
   "pygments_lexer": "ipython3",
   "version": "3.7.6"
  }
 },
 "nbformat": 4,
 "nbformat_minor": 4
}
