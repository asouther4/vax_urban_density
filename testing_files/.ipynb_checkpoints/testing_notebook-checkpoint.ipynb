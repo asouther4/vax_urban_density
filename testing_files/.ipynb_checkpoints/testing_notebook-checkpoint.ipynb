{
 "cells": [
  {
   "cell_type": "markdown",
   "metadata": {},
   "source": [
    "# Testing Notebook\n",
    "\n",
    "While addressing referee comments, we decided to test a variety of possible algorithms for agent vaccination choice and assigning infection costs to agents. Each of these algorithms are described in `VaxModel.py`. \n",
    "\n",
    "This notebook contains all the code we used to test these algorithms in the Fall of 2021. \n",
    "\n",
    "Programmer: Andrew Souther <br>\n",
    "Date: November 2021"
   ]
  },
  {
   "cell_type": "markdown",
   "metadata": {},
   "source": [
    "To begin, we import all the packages we need. We use pandas for data manipulation, matplotlib for visualization."
   ]
  },
  {
   "cell_type": "code",
   "execution_count": 1,
   "metadata": {},
   "outputs": [],
   "source": [
    "%matplotlib inline\n",
    "import pandas as pd\n",
    "import matplotlib.pyplot as plt\n",
    "import os\n",
    "import json\n",
    "import numpy as np\n",
    "import math\n",
    "#import econtools.metrics as mt\n",
    "\n",
    "\n",
    "import csv\n",
    "import networkx as nx\n",
    "from networkx.algorithms import community"
   ]
  },
  {
   "cell_type": "markdown",
   "metadata": {},
   "source": [
    "We will also define a few helpful functions to make repetitive data tasks a bit cleaner. "
   ]
  },
  {
   "cell_type": "code",
   "execution_count": 8,
   "metadata": {},
   "outputs": [],
   "source": [
    "#this function imports an experiment data log file and performs some simple cleaning\n",
    "def import_and_clean(filepath):\n",
    "    \n",
    "    df = pd.read_json(filepath, lines=True)\n",
    "    \n",
    "    df[\"proportion_vacc\"] = 1 - (df[\"unvaccinated\"] / df[\"hub_size\"])\n",
    "    df[\"proportion_inf\"] = (df[\"recovered\"] / df[\"hub_size\"]) \n",
    "    df[\"hub_id\"] = df[\"hub\"].astype(str) + df[\"inst_unique_id\"] #generate a unique id for each hub\n",
    "\n",
    "    return df\n",
    "\n",
    "#this function collapses data to the season level, displays urban & rural vax rates over time, then\n",
    " # saves the graph as an image\n",
    "def visualize_seasonal_data(value_df,title_string,image_filepath):\n",
    "\n",
    "    urban_grouped = value_df.query(\"hub_density==12\").groupby([\"season\"]).mean()\n",
    "    rural_grouped = value_df.query(\"hub_density==8\").groupby([\"season\"]).mean()\n",
    "    x = urban_grouped.index\n",
    "\n",
    "    plt.plot(x, urban_grouped[\"proportion_vacc\"], color='#7f6d5f', label='Urban')\n",
    "    plt.plot(x, rural_grouped[\"proportion_vacc\"], color='#557f2d', label='Rural')\n",
    "    plt.title(f\"Average Regional Vaccination over Time, \" + title_string) \n",
    "    plt.xlabel(\"Season\")\n",
    "    plt.ylabel(\"Vaccination Rate\")\n",
    "    plt.legend(loc=\"best\")\n",
    "    \n",
    "    plt.savefig(image_filepath, bbox_inches='tight')\n",
    "    plt.clf()"
   ]
  },
  {
   "cell_type": "markdown",
   "metadata": {},
   "source": [
    "# Test Code"
   ]
  },
  {
   "cell_type": "markdown",
   "metadata": {},
   "source": [
    "## Simple Probability Testing"
   ]
  },
  {
   "cell_type": "code",
   "execution_count": 9,
   "metadata": {},
   "outputs": [
    {
     "data": {
      "text/plain": [
       "<Figure size 432x288 with 0 Axes>"
      ]
     },
     "metadata": {},
     "output_type": "display_data"
    }
   ],
   "source": [
    "raw_df = import_and_clean(f'prob_choice/prob_choice_data.log')\n",
    "prob_choices = raw_df['probability_choice'].unique().tolist()\n",
    "#prob_choice_dict = {}\n",
    "\n",
    "for value in prob_choices:\n",
    "    value_df = raw_df[raw_df[\"probability_choice\"] == value]\n",
    "    percent = int(value * 100)\n",
    "    title_string = f\"probability_choice = {percent}%\"\n",
    "    image_filepath = f'prob_choice/prob_choice_images/seasonal_fig_{percent}.png'\n",
    "    \n",
    "    visualize_seasonal_data(value_df,title_string,image_filepath)\n",
    "    \n",
    "#     urban_grouped = value_df.query(\"hub_density==12\").groupby([\"season\"]).mean()\n",
    "#     rural_grouped = value_df.query(\"hub_density==8\").groupby([\"season\"]).mean()\n",
    "#     x = urban_grouped.index\n",
    "\n",
    "#     plt.plot(x, urban_grouped[\"proportion_vacc\"], color='#7f6d5f', label='Urban')\n",
    "#     plt.plot(x, rural_grouped[\"proportion_vacc\"], color='#557f2d', label='Rural')\n",
    "#     plt.title(f\"Average Regional Vaccination over Time, probability_choice = {percent}%\") \n",
    "#     plt.xlabel(\"Season\")\n",
    "#     plt.ylabel(\"Vaccination Rate\")\n",
    "#     plt.legend(loc=\"best\")\n",
    "    \n",
    "#     plt.savefig(f'{test_name}/{test_name}_images/seasonal_fig_{percent}.png', bbox_inches='tight')\n",
    "#     plt.clf()"
   ]
  },
  {
   "cell_type": "markdown",
   "metadata": {},
   "source": [
    "## Fixed Percent Testing"
   ]
  },
  {
   "cell_type": "code",
   "execution_count": 10,
   "metadata": {},
   "outputs": [
    {
     "data": {
      "text/plain": [
       "<Figure size 432x288 with 0 Axes>"
      ]
     },
     "metadata": {},
     "output_type": "display_data"
    }
   ],
   "source": [
    "#test_name = 'fixed_percent'\n",
    "raw_df = import_and_clean(f'fixed_percent/fixed_percent_data.log')\n",
    "percent_choices = raw_df['percent_choice'].unique().tolist()\n",
    "#percent_choice_dict = {}\n",
    "\n",
    "for value in percent_choices:\n",
    "    value_df = raw_df[raw_df[\"percent_choice\"] == value]\n",
    "    percent = int(value * 100)\n",
    "    title_string = f\"percent_choice = {percent}%\"\n",
    "    image_filepath = f'fixed_percent/fixed_percent_images/seasonal_fig_{percent}.png'\n",
    "    \n",
    "    visualize_seasonal_data(value_df, title_string,image_filepath)\n",
    "    \n",
    "    \n",
    "#     urban_grouped = value_df.query(\"hub_density==12\").groupby([\"season\"]).mean()\n",
    "#     rural_grouped = value_df.query(\"hub_density==8\").groupby([\"season\"]).mean()\n",
    "#     x = urban_grouped.index\n",
    "\n",
    "#     plt.plot(x, urban_grouped[\"proportion_vacc\"], color='#7f6d5f', label='Urban')\n",
    "#     plt.plot(x, rural_grouped[\"proportion_vacc\"], color='#557f2d', label='Rural')\n",
    "#     plt.title(f\"Average Regional Vaccination over Time, percent_choice = {percent}%\") \n",
    "#     plt.xlabel(\"Season\")\n",
    "#     plt.ylabel(\"Vaccination Rate\")\n",
    "#     plt.legend(loc=\"best\")\n",
    "    \n",
    "#     plt.savefig(f'{test_name}/{test_name}_images/seasonal_fig_{percent}.png', bbox_inches='tight')\n",
    "#     plt.clf()"
   ]
  },
  {
   "cell_type": "markdown",
   "metadata": {},
   "source": [
    "## Heterogeneous Cost Testing"
   ]
  },
  {
   "cell_type": "code",
   "execution_count": 12,
   "metadata": {},
   "outputs": [
    {
     "data": {
      "text/plain": [
       "<Figure size 432x288 with 0 Axes>"
      ]
     },
     "metadata": {},
     "output_type": "display_data"
    }
   ],
   "source": [
    "#test_name = 'het_cost'\n",
    "raw_df = import_and_clean(f'het_cost/het_cost_data.log')\n",
    "percent_choices = raw_df['probability_choice'].unique().tolist()\n",
    "percent_choice_dict = {}\n",
    "\n",
    "value_df = raw_df[(raw_df[\"probability_choice\"] == 0.1) & (raw_df[\"infection_cost\"] == 3)]\n",
    "title_string = \"\\n Rural Inf Cost = 3, Urban Inf Cost = 3\"\n",
    "image_filepath = f'het_cost/het_cost_images/both_equal.png'\n",
    "\n",
    "visualize_seasonal_data(value_df,title_string,image_filepath)\n",
    "\n",
    "# urban_grouped = value_df.query(\"hub_density==12\").groupby([\"season\"]).mean()\n",
    "# rural_grouped = value_df.query(\"hub_density==8\").groupby([\"season\"]).mean()\n",
    "# x = urban_grouped.index\n",
    "\n",
    "# plt.plot(x, urban_grouped[\"proportion_vacc\"], color='#7f6d5f', label='Urban')\n",
    "# plt.plot(x, rural_grouped[\"proportion_vacc\"], color='#557f2d', label='Rural')\n",
    "# plt.title(\"Average Regional Vaccination over Time\\n\"\n",
    "#           f\"Rural Inf Cost = 3, Urban Inf Cost = 3\")\n",
    "# plt.xlabel(\"Season\")\n",
    "# plt.ylabel(\"Vaccination Rate\")\n",
    "# plt.legend(loc=\"best\")\n",
    "# plt.savefig(f'{test_name}/{test_name}_images/both_equal.png', bbox_inches='tight')"
   ]
  },
  {
   "cell_type": "code",
   "execution_count": 13,
   "metadata": {},
   "outputs": [
    {
     "data": {
      "image/png": "[encoded data removed]",
      "text/plain": [
       "<Figure size 432x288 with 1 Axes>"
      ]
     },
     "metadata": {
      "needs_background": "light"
     },
     "output_type": "display_data"
    }
   ],
   "source": [
    "rural_low = raw_df[(raw_df[\"hub_density\"] == 8) & (raw_df[\"infection_cost\"] == 2)].groupby([\"season\"]).mean()\n",
    "urban_high = raw_df[(raw_df[\"hub_density\"] == 12) & (raw_df[\"infection_cost\"] == 4)].groupby([\"season\"]).mean()\n",
    "x = urban_high.index\n",
    "\n",
    "plt.plot(x, urban_high[\"proportion_vacc\"], color='#7f6d5f', label='Urban')\n",
    "plt.plot(x, rural_low[\"proportion_vacc\"], color='#557f2d', label='Rural')\n",
    "plt.title(\"Average Regional Vaccination over Time\\n\"\n",
    "          f\"Rural Inf Cost = 2, Urban Inf Cost = 4\") \n",
    "plt.xlabel(\"Season\")\n",
    "plt.ylabel(\"Vaccination Rate\")\n",
    "plt.legend(loc=\"best\")\n",
    "plt.savefig(f'het_cost/het_cost_images/rural_low.png', bbox_inches='tight')"
   ]
  },
  {
   "cell_type": "code",
   "execution_count": 14,
   "metadata": {},
   "outputs": [
    {
     "data": {
      "image/png": "[encoded data removed]",
      "text/plain": [
       "<Figure size 432x288 with 1 Axes>"
      ]
     },
     "metadata": {
      "needs_background": "light"
     },
     "output_type": "display_data"
    }
   ],
   "source": [
    "rural_high = raw_df[(raw_df[\"hub_density\"] == 8) & (raw_df[\"infection_cost\"] == 4)].groupby([\"season\"]).mean()\n",
    "urban_low = raw_df[(raw_df[\"hub_density\"] == 12) & (raw_df[\"infection_cost\"] == 2)].groupby([\"season\"]).mean()\n",
    "x = urban_low.index\n",
    "\n",
    "plt.plot(x, urban_low[\"proportion_vacc\"], color='#7f6d5f', label='Urban')\n",
    "plt.plot(x, rural_high[\"proportion_vacc\"], color='#557f2d', label='Rural')\n",
    "plt.title(\"Average Regional Vaccination over Time\\n\"\n",
    "          f\"Rural Inf Cost = 4, Urban Inf Cost = 2\")\n",
    "plt.xlabel(\"Season\")\n",
    "plt.ylabel(\"Vaccination Rate\")\n",
    "plt.legend(loc=\"best\")\n",
    "plt.savefig(f'het_cost/het_cost_images/rural_high.png', bbox_inches='tight')"
   ]
  },
  {
   "cell_type": "markdown",
   "metadata": {},
   "source": [
    "## Logit Choice Testing\n",
    "\n",
    "In one stage of testing, we considered implement an vaccination choice algorithm that resembles a logit discrete choice model. This section contains some exploration of that basic idea. \n"
   ]
  },
  {
   "cell_type": "code",
   "execution_count": 15,
   "metadata": {},
   "outputs": [
    {
     "data": {
      "image/png": "[encoded data removed]",
      "text/plain": [
       "<Figure size 432x288 with 1 Axes>"
      ]
     },
     "metadata": {
      "needs_background": "light"
     },
     "output_type": "display_data"
    }
   ],
   "source": [
    "betas = [0,1,2,3,4,5,6,7,8,9,10]\n",
    "diff = np.linspace(-1, 2, 1000)\n",
    "\n",
    "for beta in betas:\n",
    "    prob_vacc_choice = lambda x : 1 / ( 1 + np.exp(-1 * beta * x))\n",
    "    fv = np.vectorize(prob_vacc_choice)\n",
    "    y_values = fv(diff)\n",
    "    plt.plot(diff, y_values, label = beta)\n",
    "    \n",
    "    plt.legend(loc=\"best\")"
   ]
  },
  {
   "cell_type": "code",
   "execution_count": 16,
   "metadata": {},
   "outputs": [
    {
     "data": {
      "text/plain": [
       "<Figure size 432x288 with 0 Axes>"
      ]
     },
     "metadata": {},
     "output_type": "display_data"
    }
   ],
   "source": [
    "test_name = 'logit_test'\n",
    "raw_df = import_and_clean(f'logit_test/logit_test_data.log')\n",
    "\n",
    "constant_df = raw_df[raw_df['vax_choice_key']=='logit_constant']\n",
    "beta_list = constant_df['beta'].unique().tolist()\n",
    "#beta_dict = {}\n",
    "\n",
    "for beta in beta_list:\n",
    "    value_df = constant_df[constant_df[\"beta\"] == beta]\n",
    "    title_string = f\"beta = {beta}\"\n",
    "    image_filepath = f'logit_test/logit_constant_images/seasonal_fig_{beta}.png'\n",
    "    \n",
    "    visualize_seasonal_data(value_df,title_string,image_filepath)\n",
    "    \n",
    "\n",
    "#     urban_grouped = value_df.query(\"hub_density==12\").groupby([\"season\"]).mean()\n",
    "#     rural_grouped = value_df.query(\"hub_density==8\").groupby([\"season\"]).mean()\n",
    "#     x = urban_grouped.index\n",
    "\n",
    "#     plt.plot(x, urban_grouped[\"proportion_vacc\"], color='#7f6d5f', label='Urban')\n",
    "#     plt.plot(x, rural_grouped[\"proportion_vacc\"], color='#557f2d', label='Rural')\n",
    "#     plt.title(f\"Average Regional Vaccination over Time, beta = {beta}\") \n",
    "#     plt.xlabel(\"Season\")\n",
    "#     plt.ylabel(\"Vaccination Rate\")\n",
    "#     plt.legend(loc=\"best\")\n",
    "    \n",
    "#     plt.savefig(f'logit_test/logit_constant_images/seasonal_fig_{beta}.png', bbox_inches='tight')\n",
    "#     plt.clf()"
   ]
  },
  {
   "cell_type": "code",
   "execution_count": null,
   "metadata": {},
   "outputs": [],
   "source": [
    "normal_df = raw_df[raw_df['vax_choice_key']=='logit_normal']\n",
    "beta_list = normal_df['beta_mean'].unique().tolist()\n",
    "#beta_dict = {}\n",
    "\n",
    "for beta_mean in beta_list:\n",
    "    value_df = normal_df[normal_df[\"beta_mean\"] == beta_mean]\n",
    "    title_string = f\"beta_mean = {beta_mean}\"\n",
    "    image_filepath = f'logit_test/logit_normal_images/seasonal_fig_{beta_mean}.png'\n",
    "    \n",
    "    visualize_seasonal_data(value_df,title_string,image_filepath)\n",
    "    \n",
    "#     urban_grouped = value_df.query(\"hub_density==12\").groupby([\"season\"]).mean()\n",
    "#     rural_grouped = value_df.query(\"hub_density==8\").groupby([\"season\"]).mean()\n",
    "#     x = urban_grouped.index\n",
    "\n",
    "#     plt.plot(x, urban_grouped[\"proportion_vacc\"], color='#7f6d5f', label='Urban')\n",
    "#     plt.plot(x, rural_grouped[\"proportion_vacc\"], color='#557f2d', label='Rural')\n",
    "#     plt.title(f\"Average Regional Vaccination over Time, beta_mean = {beta_mean}\") \n",
    "#     plt.xlabel(\"Season\")\n",
    "#     plt.ylabel(\"Vaccination Rate\")\n",
    "#     plt.legend(loc=\"best\")\n",
    "    \n",
    "#     plt.savefig(f'{test_name}/logit_normal_images/seasonal_fig_{beta_mean}.png', bbox_inches='tight')\n",
    "#     plt.clf()"
   ]
  },
  {
   "cell_type": "markdown",
   "metadata": {},
   "source": [
    "## Uniform Cost Testing"
   ]
  },
  {
   "cell_type": "code",
   "execution_count": null,
   "metadata": {},
   "outputs": [],
   "source": [
    "test_name = 'uniform_cost'\n",
    "raw_df = import_and_clean(f'{test_name}/{test_name}_data.log')\n",
    "bounds_list = [[1,100]]\n",
    "\n",
    "expanded_df = raw_df[\"infection_cost\"].apply(pd.Series)\n",
    "raw_df['infection_cost_lower'] = expanded_df[0]\n",
    "raw_df['infection_cost_higher'] = expanded_df[1]\n",
    "\n",
    "for bounds in bounds_list:\n",
    "    value_df = raw_df[(raw_df[\"infection_cost_lower\"] == bounds[0]) &\n",
    "                       (raw_df[\"infection_cost_higher\"] == bounds[1]) ]\n",
    "    urban_grouped = value_df.query(\"hub_density==12\").groupby([\"season\"]).mean()\n",
    "    rural_grouped = value_df.query(\"hub_density==8\").groupby([\"season\"]).mean()\n",
    "    x = urban_grouped.index\n",
    "\n",
    "    plt.plot(x, urban_grouped[\"proportion_vacc\"], color='#7f6d5f', label='Urban')\n",
    "    plt.plot(x, rural_grouped[\"proportion_vacc\"], color='#557f2d', label='Rural')\n",
    "    plt.title(f\"Average Regional Vaccination over Time, Infection Cost Bounds = {bounds}\") \n",
    "    plt.xlabel(\"Season\")\n",
    "    plt.ylabel(\"Vaccination Rate\")\n",
    "    plt.legend(loc=\"best\")\n",
    "    \n",
    "    plt.savefig(f'{test_name}/{test_name}_images/seasonal_fig_{bounds[0]}_{bounds[1]}.png', bbox_inches='tight')\n",
    "    plt.clf()"
   ]
  },
  {
   "cell_type": "markdown",
   "metadata": {},
   "source": [
    "## Seasonal Learning Test"
   ]
  },
  {
   "cell_type": "code",
   "execution_count": null,
   "metadata": {},
   "outputs": [],
   "source": [
    "test_name = 'learning_test'\n",
    "raw_df = import_and_clean(f'{test_name}/{test_name}_data.log')\n",
    "bounds_list = [[1,3],[1,4],[1,5],[2,3],[2,4],[2,5]]\n",
    "\n",
    "expanded_df = raw_df[\"infection_cost\"].apply(pd.Series)\n",
    "raw_df['infection_cost_lower'] = expanded_df[0]\n",
    "raw_df['infection_cost_higher'] = expanded_df[1]\n",
    "\n",
    "for bounds in bounds_list:\n",
    "    value_df = raw_df[(raw_df[\"infection_cost_lower\"] == bounds[0]) &\n",
    "                       (raw_df[\"infection_cost_higher\"] == bounds[1]) ]\n",
    "    urban_grouped = value_df.query(\"hub_density==12\").groupby([\"season\"]).mean()\n",
    "    rural_grouped = value_df.query(\"hub_density==8\").groupby([\"season\"]).mean()\n",
    "    x = urban_grouped.index\n",
    "\n",
    "    plt.plot(x, urban_grouped[\"proportion_vacc\"], color='#7f6d5f', label='Urban')\n",
    "    plt.plot(x, rural_grouped[\"proportion_vacc\"], color='#557f2d', label='Rural')\n",
    "    plt.title(f\"Average Regional Vaccination over Time, Infection Cost Bounds = {bounds}\") \n",
    "    plt.xlabel(\"Season\")\n",
    "    plt.ylabel(\"Vaccination Rate\")\n",
    "    plt.legend(loc=\"best\")\n",
    "    \n",
    "    plt.savefig(f'{test_name}/{test_name}_images/seasonal_fig_{bounds[0]}_{bounds[1]}.png', bbox_inches='tight')\n",
    "    plt.clf()"
   ]
  },
  {
   "cell_type": "code",
   "execution_count": null,
   "metadata": {},
   "outputs": [],
   "source": [
    "raw_df = import_and_clean(f'{test_name}/new_{test_name}_data.log')\n",
    "bounds_list = [[1,3],[8,10]]\n",
    "\n",
    "expanded_df = raw_df[\"infection_cost\"].apply(pd.Series)\n",
    "raw_df['infection_cost_lower'] = expanded_df[0]\n",
    "raw_df['infection_cost_higher'] = expanded_df[1]\n",
    "\n",
    "for bounds in bounds_list:\n",
    "    value_df = raw_df[(raw_df[\"infection_cost_lower\"] == bounds[0]) &\n",
    "                       (raw_df[\"infection_cost_higher\"] == bounds[1]) ]\n",
    "    urban_grouped = value_df.query(\"hub_density==12\").groupby([\"season\"]).mean()\n",
    "    rural_grouped = value_df.query(\"hub_density==8\").groupby([\"season\"]).mean()\n",
    "    x = urban_grouped.index\n",
    "\n",
    "    plt.plot(x, urban_grouped[\"proportion_vacc\"], color='#7f6d5f', label='Urban')\n",
    "    plt.plot(x, rural_grouped[\"proportion_vacc\"], color='#557f2d', label='Rural')\n",
    "    plt.title(f\"Average Regional Vaccination over Time, Infection Cost Bounds = {bounds}\") \n",
    "    plt.xlabel(\"Season\")\n",
    "    plt.ylabel(\"Vaccination Rate\")\n",
    "    plt.legend(loc=\"best\")\n",
    "    \n",
    "    plt.savefig(f'{test_name}/new_{test_name}_images/seasonal_fig_{bounds[0]}_{bounds[1]}.png', bbox_inches='tight')\n",
    "    plt.clf()"
   ]
  },
  {
   "cell_type": "markdown",
   "metadata": {},
   "source": [
    "## Discount Test"
   ]
  },
  {
   "cell_type": "code",
   "execution_count": null,
   "metadata": {},
   "outputs": [],
   "source": [
    "test_name = 'discount_test'\n",
    "raw_df = import_and_clean(f'{test_name}/{test_name}_data.log')\n",
    "discount_factors = raw_df['discount_factor'].unique().tolist()\n",
    "discount_factor_dict = {}\n",
    "\n",
    "for discount_factor in discount_factors:\n",
    "    value_df = raw_df[raw_df[\"discount_factor\"] == discount_factor]\n",
    "    rounded_value = round(discount_factor,2)\n",
    "    \n",
    "    urban_grouped = value_df.query(\"hub_density==12\").groupby([\"season\"]).mean()\n",
    "    rural_grouped = value_df.query(\"hub_density==8\").groupby([\"season\"]).mean()\n",
    "    x = urban_grouped.index\n",
    "\n",
    "\n",
    "    urban_grouped = value_df.query(\"hub_density==12\").groupby([\"season\"]).mean()\n",
    "    rural_grouped = value_df.query(\"hub_density==8\").groupby([\"season\"]).mean()\n",
    "    x = urban_grouped.index\n",
    "\n",
    "    plt.plot(x, urban_grouped[\"proportion_vacc\"], color='#7f6d5f', label='Urban')\n",
    "    plt.plot(x, rural_grouped[\"proportion_vacc\"], color='#557f2d', label='Rural')\n",
    "    plt.title(f\"Average Regional Vaccination over Time, discount_factor = {rounded_value}\") \n",
    "    plt.xlabel(\"Season\")\n",
    "    plt.ylabel(\"Vaccination Rate\")\n",
    "    plt.legend(loc=\"best\")\n",
    "    \n",
    "    plt.savefig(f'{test_name}/{test_name}_images/seasonal_fig_{rounded_value*100}.png', bbox_inches='tight')\n",
    "    plt.clf()"
   ]
  },
  {
   "cell_type": "code",
   "execution_count": null,
   "metadata": {},
   "outputs": [],
   "source": [
    "raw_df = import_and_clean(f'{test_name}/new_{test_name}_data.log')\n",
    "discount_factors = raw_df['discount_factor'].unique().tolist()\n",
    "discount_factor_dict = {}\n",
    "\n",
    "for discount_factor in discount_factors:\n",
    "    value_df = raw_df[raw_df[\"discount_factor\"] == discount_factor]\n",
    "    rounded_value = round(discount_factor,2)\n",
    "    \n",
    "    urban_grouped = value_df.query(\"hub_density==12\").groupby([\"season\"]).mean()\n",
    "    rural_grouped = value_df.query(\"hub_density==8\").groupby([\"season\"]).mean()\n",
    "    x = urban_grouped.index\n",
    "\n",
    "    plt.plot(x, urban_grouped[\"proportion_vacc\"], color='#7f6d5f', label='Urban')\n",
    "    plt.plot(x, rural_grouped[\"proportion_vacc\"], color='#557f2d', label='Rural')\n",
    "    plt.title(f\"Average Regional Vaccination over Time, discount_factor = {rounded_value}\") \n",
    "    plt.xlabel(\"Season\")\n",
    "    plt.ylabel(\"Vaccination Rate\")\n",
    "    plt.legend(loc=\"best\")\n",
    "    \n",
    "    plt.savefig(f'{test_name}/new_{test_name}_images/seasonal_fig_{rounded_value*100}.png', bbox_inches='tight')\n",
    "    plt.clf()"
   ]
  },
  {
   "cell_type": "markdown",
   "metadata": {},
   "source": [
    "## Cost Distribution Tests\n",
    "\n",
    "### Uniform Distribution Tests"
   ]
  },
  {
   "cell_type": "code",
   "execution_count": null,
   "metadata": {},
   "outputs": [],
   "source": [
    "test_name = 'cost_distribution'\n",
    "raw_df = import_and_clean(f'{test_name}/{test_name}_data.log')\n",
    "lower_bounds = [(i + 1) for i in range(23)]\n",
    "bounds_list = [[i,i+2] for i in lower_bounds]\n",
    "\n",
    "expanded_df = raw_df[\"infection_cost\"].apply(pd.Series)\n",
    "raw_df['infection_cost_lower'] = expanded_df[0]\n",
    "raw_df['infection_cost_higher'] = expanded_df[1]\n",
    "\n",
    "for bounds in bounds_list:\n",
    "    value_df = raw_df[(raw_df[\"infection_cost_lower\"] == bounds[0]) &\n",
    "                       (raw_df[\"infection_cost_higher\"] == bounds[1]) ]\n",
    "    urban_grouped = value_df.query(\"hub_density==12\").groupby([\"season\"]).mean()\n",
    "    rural_grouped = value_df.query(\"hub_density==8\").groupby([\"season\"]).mean()\n",
    "    x = urban_grouped.index\n",
    "\n",
    "    plt.plot(x, urban_grouped[\"proportion_vacc\"], color='#7f6d5f', label='Urban')\n",
    "    plt.plot(x, rural_grouped[\"proportion_vacc\"], color='#557f2d', label='Rural')\n",
    "    plt.title(f\"Average Regional Vaccination over Time, Infection Cost Bounds = {bounds}\") \n",
    "    plt.xlabel(\"Season\")\n",
    "    plt.ylabel(\"Vaccination Rate\")\n",
    "    plt.legend(loc=\"best\")\n",
    "    \n",
    "    plt.savefig(f'{test_name}/{test_name}_images/seasonal_fig_{bounds[0]}_{bounds[1]}.png', bbox_inches='tight')\n",
    "    plt.clf()"
   ]
  },
  {
   "cell_type": "markdown",
   "metadata": {},
   "source": [
    "### Normal Distribution Tests"
   ]
  },
  {
   "cell_type": "code",
   "execution_count": null,
   "metadata": {},
   "outputs": [],
   "source": [
    "raw_df = import_and_clean(f'cost_distribution/normal_cost_data.log')\n",
    "raw_df['infection_cost_mean'] = raw_df['infection_cost'].apply(lambda x: x.get('mean'))\n",
    "raw_df['infection_cost_sd'] = raw_df['infection_cost'].apply(lambda x: x.get('sd'))\n",
    "\n",
    "mean_list = raw_df['infection_cost_mean'].unique().tolist()\n",
    "sd_list = raw_df['infection_cost_sd'].unique().tolist()\n",
    "\n",
    "num_mean = len(mean_list)\n",
    "num_sd = len(sd_list)\n",
    "\n",
    "fig, axes = plt.subplots(nrows=num_mean, ncols=num_sd, figsize = (18,15), sharey=True, sharex=True)\n",
    "\n",
    "for i in range(num_mean):\n",
    "    mean = mean_list[i]\n",
    "    for j in range(num_sd):        \n",
    "        sd = sd_list[j]\n",
    "        \n",
    "        value_df = raw_df[(raw_df[\"infection_cost_mean\"] == mean) &\n",
    "                          (raw_df[\"infection_cost_sd\"] == sd) ]\n",
    "        urban_grouped = value_df.query(\"hub_density==12\").groupby([\"season\"]).mean()\n",
    "        rural_grouped = value_df.query(\"hub_density==8\").groupby([\"season\"]).mean()\n",
    "        x = urban_grouped.index\n",
    "        \n",
    "        axes[i,j].plot(x, urban_grouped[\"proportion_vacc\"], color='#7f6d5f', label=f'Urban')\n",
    "        axes[i,j].plot(x, rural_grouped[\"proportion_vacc\"], color='#557f2d', label=f'Rural')\n",
    "        axes[i,j].legend(loc=\"best\")\n",
    "        \n",
    "        if i==0:\n",
    "            axes[i,j].set_title(f\" Infection Cost SD = {sd}\")        \n",
    "        if j==0: #if the plot is on the left column, set a y label\n",
    "                axes[i,j].set_ylabel(f\"Infection Cost Mean = {mean}\" )\n",
    "        if i==(num_sd - 1): #if the plot is on the bottom row, set an x label\n",
    "                axes[i,j].set_xlabel(\"Season\")\n",
    "                \n",
    "plt.savefig(f'cost_distribution/normal_dist_cost_grid.png', bbox_inches='tight')"
   ]
  }
 ],
 "metadata": {
  "kernelspec": {
   "display_name": "Python 3",
   "language": "python",
   "name": "python3"
  },
  "language_info": {
   "codemirror_mode": {
    "name": "ipython",
    "version": 3
   },
   "file_extension": ".py",
   "mimetype": "text/x-python",
   "name": "python",
   "nbconvert_exporter": "python",
   "pygments_lexer": "ipython3",
   "version": "3.8.5"
  },
  "toc": {
   "base_numbering": 1,
   "nav_menu": {},
   "number_sections": true,
   "sideBar": true,
   "skip_h1_title": false,
   "title_cell": "Table of Contents",
   "title_sidebar": "Contents",
   "toc_cell": false,
   "toc_position": {},
   "toc_section_display": true,
   "toc_window_display": false
  }
 },
 "nbformat": 4,
 "nbformat_minor": 4
}
