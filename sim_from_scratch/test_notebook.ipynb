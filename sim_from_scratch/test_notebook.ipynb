{
 "cells": [
  {
   "cell_type": "markdown",
   "metadata": {},
   "source": [
    "# It's Worth A Shot... \n",
    "### Urban Density, Endogenous Vaccination Decisions, and Dynamics of Infectious Disease\n",
    "\n",
    "Data Analysis Notebook <br>\n",
    "Programmer: Andrew Souther <br>\n",
    "Date: December 2020"
   ]
  },
  {
   "cell_type": "markdown",
   "metadata": {},
   "source": [
    "To begin, we import all the packages we need. We use pandas for data manipulation, matplotlib for visualization, and econtools for econometrics work. csv and all the following packages are needed to clean the network data. "
   ]
  },
  {
   "cell_type": "code",
   "execution_count": 1,
   "metadata": {},
   "outputs": [],
   "source": [
    "%matplotlib inline\n",
    "import pandas as pd\n",
    "import matplotlib.pyplot as plt\n",
    "#import econtools.metrics as mt\n",
    "\n",
    "\n",
    "import csv\n",
    "import networkx as nx\n",
    "from networkx.algorithms import community"
   ]
  },
  {
   "cell_type": "markdown",
   "metadata": {},
   "source": [
    "We will also define a few helpful functions to make repetitive data tasks a bit cleaner. "
   ]
  },
  {
   "cell_type": "code",
   "execution_count": 2,
   "metadata": {},
   "outputs": [],
   "source": [
    "#this function imports an experiment data log file and performs some simple cleaning\n",
    "def import_and_clean(filepath):\n",
    "    \n",
    "    df = pd.read_json(filepath, lines=True)\n",
    "    \n",
    "    df[\"proportion_vacc\"] = 1 - (df[\"unvaccinated\"] / df[\"hub_size\"])\n",
    "    df[\"proportion_inf\"] = (df[\"recovered\"] / df[\"hub_size\"]) \n",
    "    df[\"hub_id\"] = df[\"hub\"].astype(str) + df[\"inst_unique_id\"] #generate a unique id for each hub\n",
    "\n",
    "    return df\n",
    "\n",
    "\n",
    "#this function builds a dataframe of \"steady-state\" values, averaged for each hub over the last five seasons\n",
    "def collapse_steady_state(df):\n",
    "    \n",
    "    df_last5 = df.query(\"season>=20\")\n",
    "\n",
    "    #collapse the data to the hub level, averaging over the last 5 seasons\n",
    "    df_hubs = df_last5[[\"proportion_inf\", \n",
    "                          \"proportion_vacc\", \n",
    "                          \"homophily\", \n",
    "                          \"hub_density\",\n",
    "                          \"cost_of_infection\",\n",
    "                          \"hub_id\"]].groupby([\"hub_id\"]).mean()\n",
    "    return df_hubs\n",
    "\n",
    "\n",
    "#this function imports and cleans the raw network data\n",
    "def import_network_data(filepath, simulation_id):\n",
    "    network_df = pd.read_json(filepath, lines=True)\n",
    "    network_df = network_df[network_df[\"simulation_id\"]==simulation_id]\n",
    "    \n",
    "    edges_df = network_df.loc[network_df[\"data_flag\"] == \"network\"]\n",
    "    edges_df = edges_df[[\"source\", \"target\"]]\n",
    "\n",
    "    nodes_df = network_df.loc[network_df[\"data_flag\"] == \"hub\"]\n",
    "    nodes_df = nodes_df[[\"agent\", \"type\"]]\n",
    "    \n",
    "    return edges_df, nodes_df\n",
    "\n",
    "\n",
    "#this function takes network data in two pandas dataframes outputs it in a form that Gephi likes\n",
    "def build_gexf_from_df(edges_df, nodes_df, filepath):\n",
    "    \n",
    "    nodes_df.to_csv('network_data/nodelist.csv', index=False)\n",
    "    edges_df.to_csv('network_data/edgelist.csv', index=False)\n",
    "\n",
    "    with open('network_data/nodelist.csv', 'r') as nodecsv: # Open the file\n",
    "        nodereader = csv.reader(nodecsv) # Read the csv\n",
    "        # Retrieve the data (using Python list comprhension and list slicing to remove the header row, see footnote 3)\n",
    "        nodes = [n for n in nodereader][1:]\n",
    "\n",
    "    node_names = [n[0] for n in nodes] # Get a list of only the node names\n",
    "\n",
    "    with open('network_data/edgelist.csv', 'r') as edgecsv: # Open the file\n",
    "        edgereader = csv.reader(edgecsv) # Read the csv\n",
    "        edges = [tuple(e) for e in edgereader][1:] # Retrieve the data\n",
    "    \n",
    "    G = nx.Graph()\n",
    "    G.add_nodes_from(node_names)\n",
    "    G.add_edges_from(edges)\n",
    "\n",
    "    hub_dict = {}\n",
    "    for node in nodes: # Loop through the list, one row at a time\n",
    "        hub_dict[node[0]] = node[1]\n",
    "\n",
    "    nx.set_node_attributes(G, hub_dict, 'type')\n",
    "    nx.write_gexf(G, filepath)"
   ]
  },
  {
   "cell_type": "markdown",
   "metadata": {},
   "source": [
    "# Test Code"
   ]
  },
  {
   "cell_type": "code",
   "execution_count": 3,
   "metadata": {},
   "outputs": [
    {
     "name": "stdout",
     "output_type": "stream",
     "text": [
      "(250, 17)\n"
     ]
    },
    {
     "data": {
      "text/html": [
       "<div>\n",
       "<style scoped>\n",
       "    .dataframe tbody tr th:only-of-type {\n",
       "        vertical-align: middle;\n",
       "    }\n",
       "\n",
       "    .dataframe tbody tr th {\n",
       "        vertical-align: top;\n",
       "    }\n",
       "\n",
       "    .dataframe thead th {\n",
       "        text-align: right;\n",
       "    }\n",
       "</style>\n",
       "<table border=\"1\" class=\"dataframe\">\n",
       "  <thead>\n",
       "    <tr style=\"text-align: right;\">\n",
       "      <th></th>\n",
       "      <th>hub</th>\n",
       "      <th>hub_size</th>\n",
       "      <th>hub_density</th>\n",
       "      <th>recovered</th>\n",
       "      <th>unvaccinated</th>\n",
       "      <th>season</th>\n",
       "      <th>transmission_rate</th>\n",
       "      <th>homophily</th>\n",
       "      <th>prob_vacc_choice</th>\n",
       "      <th>recovery_rate</th>\n",
       "      <th>incubation_period</th>\n",
       "      <th>cost_of_infection</th>\n",
       "      <th>inst_unique_id</th>\n",
       "      <th>data_flag</th>\n",
       "      <th>proportion_vacc</th>\n",
       "      <th>proportion_inf</th>\n",
       "      <th>hub_id</th>\n",
       "    </tr>\n",
       "  </thead>\n",
       "  <tbody>\n",
       "    <tr>\n",
       "      <th>0</th>\n",
       "      <td>0</td>\n",
       "      <td>80</td>\n",
       "      <td>8</td>\n",
       "      <td>63</td>\n",
       "      <td>72</td>\n",
       "      <td>0</td>\n",
       "      <td>0.03</td>\n",
       "      <td>0.89</td>\n",
       "      <td>0.08</td>\n",
       "      <td>0.08</td>\n",
       "      <td>3</td>\n",
       "      <td>1</td>\n",
       "      <td>I2021-08-07 13:21:51.87899558093955</td>\n",
       "      <td>seasonal_data</td>\n",
       "      <td>0.1000</td>\n",
       "      <td>0.7875</td>\n",
       "      <td>0I2021-08-07 13:21:51.87899558093955</td>\n",
       "    </tr>\n",
       "    <tr>\n",
       "      <th>1</th>\n",
       "      <td>1</td>\n",
       "      <td>80</td>\n",
       "      <td>8</td>\n",
       "      <td>63</td>\n",
       "      <td>72</td>\n",
       "      <td>0</td>\n",
       "      <td>0.03</td>\n",
       "      <td>0.89</td>\n",
       "      <td>0.08</td>\n",
       "      <td>0.08</td>\n",
       "      <td>3</td>\n",
       "      <td>1</td>\n",
       "      <td>I2021-08-07 13:21:51.87899558093955</td>\n",
       "      <td>seasonal_data</td>\n",
       "      <td>0.1000</td>\n",
       "      <td>0.7875</td>\n",
       "      <td>1I2021-08-07 13:21:51.87899558093955</td>\n",
       "    </tr>\n",
       "    <tr>\n",
       "      <th>2</th>\n",
       "      <td>2</td>\n",
       "      <td>80</td>\n",
       "      <td>8</td>\n",
       "      <td>65</td>\n",
       "      <td>73</td>\n",
       "      <td>0</td>\n",
       "      <td>0.03</td>\n",
       "      <td>0.89</td>\n",
       "      <td>0.08</td>\n",
       "      <td>0.08</td>\n",
       "      <td>3</td>\n",
       "      <td>1</td>\n",
       "      <td>I2021-08-07 13:21:51.87899558093955</td>\n",
       "      <td>seasonal_data</td>\n",
       "      <td>0.0875</td>\n",
       "      <td>0.8125</td>\n",
       "      <td>2I2021-08-07 13:21:51.87899558093955</td>\n",
       "    </tr>\n",
       "    <tr>\n",
       "      <th>3</th>\n",
       "      <td>3</td>\n",
       "      <td>80</td>\n",
       "      <td>8</td>\n",
       "      <td>51</td>\n",
       "      <td>67</td>\n",
       "      <td>0</td>\n",
       "      <td>0.03</td>\n",
       "      <td>0.89</td>\n",
       "      <td>0.08</td>\n",
       "      <td>0.08</td>\n",
       "      <td>3</td>\n",
       "      <td>1</td>\n",
       "      <td>I2021-08-07 13:21:51.87899558093955</td>\n",
       "      <td>seasonal_data</td>\n",
       "      <td>0.1625</td>\n",
       "      <td>0.6375</td>\n",
       "      <td>3I2021-08-07 13:21:51.87899558093955</td>\n",
       "    </tr>\n",
       "    <tr>\n",
       "      <th>4</th>\n",
       "      <td>4</td>\n",
       "      <td>80</td>\n",
       "      <td>8</td>\n",
       "      <td>64</td>\n",
       "      <td>71</td>\n",
       "      <td>0</td>\n",
       "      <td>0.03</td>\n",
       "      <td>0.89</td>\n",
       "      <td>0.08</td>\n",
       "      <td>0.08</td>\n",
       "      <td>3</td>\n",
       "      <td>1</td>\n",
       "      <td>I2021-08-07 13:21:51.87899558093955</td>\n",
       "      <td>seasonal_data</td>\n",
       "      <td>0.1125</td>\n",
       "      <td>0.8000</td>\n",
       "      <td>4I2021-08-07 13:21:51.87899558093955</td>\n",
       "    </tr>\n",
       "  </tbody>\n",
       "</table>\n",
       "</div>"
      ],
      "text/plain": [
       "   hub  hub_size  hub_density  recovered  unvaccinated  season  \\\n",
       "0    0        80            8         63            72       0   \n",
       "1    1        80            8         63            72       0   \n",
       "2    2        80            8         65            73       0   \n",
       "3    3        80            8         51            67       0   \n",
       "4    4        80            8         64            71       0   \n",
       "\n",
       "   transmission_rate  homophily  prob_vacc_choice  recovery_rate  \\\n",
       "0               0.03       0.89              0.08           0.08   \n",
       "1               0.03       0.89              0.08           0.08   \n",
       "2               0.03       0.89              0.08           0.08   \n",
       "3               0.03       0.89              0.08           0.08   \n",
       "4               0.03       0.89              0.08           0.08   \n",
       "\n",
       "   incubation_period  cost_of_infection                       inst_unique_id  \\\n",
       "0                  3                  1  I2021-08-07 13:21:51.87899558093955   \n",
       "1                  3                  1  I2021-08-07 13:21:51.87899558093955   \n",
       "2                  3                  1  I2021-08-07 13:21:51.87899558093955   \n",
       "3                  3                  1  I2021-08-07 13:21:51.87899558093955   \n",
       "4                  3                  1  I2021-08-07 13:21:51.87899558093955   \n",
       "\n",
       "       data_flag  proportion_vacc  proportion_inf  \\\n",
       "0  seasonal_data           0.1000          0.7875   \n",
       "1  seasonal_data           0.1000          0.7875   \n",
       "2  seasonal_data           0.0875          0.8125   \n",
       "3  seasonal_data           0.1625          0.6375   \n",
       "4  seasonal_data           0.1125          0.8000   \n",
       "\n",
       "                                 hub_id  \n",
       "0  0I2021-08-07 13:21:51.87899558093955  \n",
       "1  1I2021-08-07 13:21:51.87899558093955  \n",
       "2  2I2021-08-07 13:21:51.87899558093955  \n",
       "3  3I2021-08-07 13:21:51.87899558093955  \n",
       "4  4I2021-08-07 13:21:51.87899558093955  "
      ]
     },
     "execution_count": 3,
     "metadata": {},
     "output_type": "execute_result"
    }
   ],
   "source": [
    "base_df = import_and_clean(\"experiment_data.log\")\n",
    "base_df = base_df.loc[base_df[\"data_flag\"] == \"seasonal_data\"]\n",
    "print(base_df.shape)\n",
    "base_df.head()"
   ]
  },
  {
   "cell_type": "code",
   "execution_count": 4,
   "metadata": {},
   "outputs": [
    {
     "data": {
      "text/plain": [
       "<matplotlib.legend.Legend at 0x14426615700>"
      ]
     },
     "execution_count": 4,
     "metadata": {},
     "output_type": "execute_result"
    },
    {
     "data": {
      "image/png": "[encoded data removed]",
      "text/plain": [
       "<Figure size 432x288 with 1 Axes>"
      ]
     },
     "metadata": {
      "needs_background": "light"
     },
     "output_type": "display_data"
    }
   ],
   "source": [
    "urban_grouped = base_df.query(\"hub_density==12\").groupby([\"season\"]).mean()\n",
    "rural_grouped = base_df.query(\"hub_density==8\").groupby([\"season\"]).mean()\n",
    "x = urban_grouped.index\n",
    "\n",
    "\n",
    "urban_grouped = base_df.query(\"hub_density==12\").groupby([\"season\"]).mean()\n",
    "rural_grouped = base_df.query(\"hub_density==8\").groupby([\"season\"]).mean()\n",
    "x = urban_grouped.index\n",
    "\n",
    "\n",
    "plt.plot(x, urban_grouped[\"proportion_vacc\"], color='#7f6d5f', label='Urban')\n",
    "plt.plot(x, rural_grouped[\"proportion_vacc\"], color='#557f2d', label='Rural')\n",
    "plt.title(\"Average Regional Vaccination over Time\") \n",
    "plt.xlabel(\"Season\")\n",
    "plt.ylabel(\"Vaccination Rate\")\n",
    "plt.legend(loc=\"best\")"
   ]
  },
  {
   "cell_type": "markdown",
   "metadata": {},
   "source": [
    "### Preparing Network Data for Visualization\n",
    "\n",
    "We generate our network visualizations using Gephi, not Python. But we still need to shape the raw data into the right format for export to Gephi. "
   ]
  },
  {
   "cell_type": "code",
   "execution_count": 5,
   "metadata": {},
   "outputs": [
    {
     "ename": "ValueError",
     "evalue": "Expected object or value",
     "output_type": "error",
     "traceback": [
      "\u001b[1;31m---------------------------------------------------------------------------\u001b[0m",
      "\u001b[1;31mValueError\u001b[0m                                Traceback (most recent call last)",
      "\u001b[1;32m<ipython-input-5-a778ea86045d>\u001b[0m in \u001b[0;36m<module>\u001b[1;34m\u001b[0m\n\u001b[0;32m      1\u001b[0m \u001b[1;31m#import the data and manipulate the dataframes into the right structure\u001b[0m\u001b[1;33m\u001b[0m\u001b[1;33m\u001b[0m\u001b[1;33m\u001b[0m\u001b[0m\n\u001b[1;32m----> 2\u001b[1;33m \u001b[0medges99\u001b[0m\u001b[1;33m,\u001b[0m \u001b[0mnodes99\u001b[0m \u001b[1;33m=\u001b[0m \u001b[0mimport_network_data\u001b[0m\u001b[1;33m(\u001b[0m\u001b[1;34m\"experiment_data_logs/network_vis_data.log\"\u001b[0m\u001b[1;33m,\u001b[0m \u001b[1;36m1\u001b[0m\u001b[1;33m)\u001b[0m\u001b[1;33m\u001b[0m\u001b[1;33m\u001b[0m\u001b[0m\n\u001b[0m\u001b[0;32m      3\u001b[0m \u001b[0medges89\u001b[0m\u001b[1;33m,\u001b[0m \u001b[0mnodes89\u001b[0m \u001b[1;33m=\u001b[0m \u001b[0mimport_network_data\u001b[0m\u001b[1;33m(\u001b[0m\u001b[1;34m\"experiment_data_logs/network_vis_data.log\"\u001b[0m\u001b[1;33m,\u001b[0m \u001b[1;36m2\u001b[0m\u001b[1;33m)\u001b[0m\u001b[1;33m\u001b[0m\u001b[1;33m\u001b[0m\u001b[0m\n\u001b[0;32m      4\u001b[0m \u001b[0medges79\u001b[0m\u001b[1;33m,\u001b[0m \u001b[0mnodes79\u001b[0m \u001b[1;33m=\u001b[0m \u001b[0mimport_network_data\u001b[0m\u001b[1;33m(\u001b[0m\u001b[1;34m\"experiment_data_logs/network_vis_data.log\"\u001b[0m\u001b[1;33m,\u001b[0m \u001b[1;36m3\u001b[0m\u001b[1;33m)\u001b[0m\u001b[1;33m\u001b[0m\u001b[1;33m\u001b[0m\u001b[0m\n\u001b[0;32m      5\u001b[0m \u001b[1;33m\u001b[0m\u001b[0m\n",
      "\u001b[1;32m<ipython-input-2-5d43d989fb8c>\u001b[0m in \u001b[0;36mimport_network_data\u001b[1;34m(filepath, simulation_id)\u001b[0m\n\u001b[0;32m     28\u001b[0m \u001b[1;31m#this function imports and cleans the raw network data\u001b[0m\u001b[1;33m\u001b[0m\u001b[1;33m\u001b[0m\u001b[1;33m\u001b[0m\u001b[0m\n\u001b[0;32m     29\u001b[0m \u001b[1;32mdef\u001b[0m \u001b[0mimport_network_data\u001b[0m\u001b[1;33m(\u001b[0m\u001b[0mfilepath\u001b[0m\u001b[1;33m,\u001b[0m \u001b[0msimulation_id\u001b[0m\u001b[1;33m)\u001b[0m\u001b[1;33m:\u001b[0m\u001b[1;33m\u001b[0m\u001b[1;33m\u001b[0m\u001b[0m\n\u001b[1;32m---> 30\u001b[1;33m     \u001b[0mnetwork_df\u001b[0m \u001b[1;33m=\u001b[0m \u001b[0mpd\u001b[0m\u001b[1;33m.\u001b[0m\u001b[0mread_json\u001b[0m\u001b[1;33m(\u001b[0m\u001b[0mfilepath\u001b[0m\u001b[1;33m,\u001b[0m \u001b[0mlines\u001b[0m\u001b[1;33m=\u001b[0m\u001b[1;32mTrue\u001b[0m\u001b[1;33m)\u001b[0m\u001b[1;33m\u001b[0m\u001b[1;33m\u001b[0m\u001b[0m\n\u001b[0m\u001b[0;32m     31\u001b[0m     \u001b[0mnetwork_df\u001b[0m \u001b[1;33m=\u001b[0m \u001b[0mnetwork_df\u001b[0m\u001b[1;33m[\u001b[0m\u001b[0mnetwork_df\u001b[0m\u001b[1;33m[\u001b[0m\u001b[1;34m\"simulation_id\"\u001b[0m\u001b[1;33m]\u001b[0m\u001b[1;33m==\u001b[0m\u001b[0msimulation_id\u001b[0m\u001b[1;33m]\u001b[0m\u001b[1;33m\u001b[0m\u001b[1;33m\u001b[0m\u001b[0m\n\u001b[0;32m     32\u001b[0m \u001b[1;33m\u001b[0m\u001b[0m\n",
      "\u001b[1;32m~\\Anaconda3\\lib\\site-packages\\pandas\\util\\_decorators.py\u001b[0m in \u001b[0;36mwrapper\u001b[1;34m(*args, **kwargs)\u001b[0m\n\u001b[0;32m    197\u001b[0m                 \u001b[1;32melse\u001b[0m\u001b[1;33m:\u001b[0m\u001b[1;33m\u001b[0m\u001b[1;33m\u001b[0m\u001b[0m\n\u001b[0;32m    198\u001b[0m                     \u001b[0mkwargs\u001b[0m\u001b[1;33m[\u001b[0m\u001b[0mnew_arg_name\u001b[0m\u001b[1;33m]\u001b[0m \u001b[1;33m=\u001b[0m \u001b[0mnew_arg_value\u001b[0m\u001b[1;33m\u001b[0m\u001b[1;33m\u001b[0m\u001b[0m\n\u001b[1;32m--> 199\u001b[1;33m             \u001b[1;32mreturn\u001b[0m \u001b[0mfunc\u001b[0m\u001b[1;33m(\u001b[0m\u001b[1;33m*\u001b[0m\u001b[0margs\u001b[0m\u001b[1;33m,\u001b[0m \u001b[1;33m**\u001b[0m\u001b[0mkwargs\u001b[0m\u001b[1;33m)\u001b[0m\u001b[1;33m\u001b[0m\u001b[1;33m\u001b[0m\u001b[0m\n\u001b[0m\u001b[0;32m    200\u001b[0m \u001b[1;33m\u001b[0m\u001b[0m\n\u001b[0;32m    201\u001b[0m         \u001b[1;32mreturn\u001b[0m \u001b[0mcast\u001b[0m\u001b[1;33m(\u001b[0m\u001b[0mF\u001b[0m\u001b[1;33m,\u001b[0m \u001b[0mwrapper\u001b[0m\u001b[1;33m)\u001b[0m\u001b[1;33m\u001b[0m\u001b[1;33m\u001b[0m\u001b[0m\n",
      "\u001b[1;32m~\\Anaconda3\\lib\\site-packages\\pandas\\util\\_decorators.py\u001b[0m in \u001b[0;36mwrapper\u001b[1;34m(*args, **kwargs)\u001b[0m\n\u001b[0;32m    297\u001b[0m                 )\n\u001b[0;32m    298\u001b[0m                 \u001b[0mwarnings\u001b[0m\u001b[1;33m.\u001b[0m\u001b[0mwarn\u001b[0m\u001b[1;33m(\u001b[0m\u001b[0mmsg\u001b[0m\u001b[1;33m,\u001b[0m \u001b[0mFutureWarning\u001b[0m\u001b[1;33m,\u001b[0m \u001b[0mstacklevel\u001b[0m\u001b[1;33m=\u001b[0m\u001b[0mstacklevel\u001b[0m\u001b[1;33m)\u001b[0m\u001b[1;33m\u001b[0m\u001b[1;33m\u001b[0m\u001b[0m\n\u001b[1;32m--> 299\u001b[1;33m             \u001b[1;32mreturn\u001b[0m \u001b[0mfunc\u001b[0m\u001b[1;33m(\u001b[0m\u001b[1;33m*\u001b[0m\u001b[0margs\u001b[0m\u001b[1;33m,\u001b[0m \u001b[1;33m**\u001b[0m\u001b[0mkwargs\u001b[0m\u001b[1;33m)\u001b[0m\u001b[1;33m\u001b[0m\u001b[1;33m\u001b[0m\u001b[0m\n\u001b[0m\u001b[0;32m    300\u001b[0m \u001b[1;33m\u001b[0m\u001b[0m\n\u001b[0;32m    301\u001b[0m         \u001b[1;32mreturn\u001b[0m \u001b[0mwrapper\u001b[0m\u001b[1;33m\u001b[0m\u001b[1;33m\u001b[0m\u001b[0m\n",
      "\u001b[1;32m~\\Anaconda3\\lib\\site-packages\\pandas\\io\\json\\_json.py\u001b[0m in \u001b[0;36mread_json\u001b[1;34m(path_or_buf, orient, typ, dtype, convert_axes, convert_dates, keep_default_dates, numpy, precise_float, date_unit, encoding, lines, chunksize, compression, nrows, storage_options)\u001b[0m\n\u001b[0;32m    561\u001b[0m \u001b[1;33m\u001b[0m\u001b[0m\n\u001b[0;32m    562\u001b[0m     \u001b[1;32mwith\u001b[0m \u001b[0mjson_reader\u001b[0m\u001b[1;33m:\u001b[0m\u001b[1;33m\u001b[0m\u001b[1;33m\u001b[0m\u001b[0m\n\u001b[1;32m--> 563\u001b[1;33m         \u001b[1;32mreturn\u001b[0m \u001b[0mjson_reader\u001b[0m\u001b[1;33m.\u001b[0m\u001b[0mread\u001b[0m\u001b[1;33m(\u001b[0m\u001b[1;33m)\u001b[0m\u001b[1;33m\u001b[0m\u001b[1;33m\u001b[0m\u001b[0m\n\u001b[0m\u001b[0;32m    564\u001b[0m \u001b[1;33m\u001b[0m\u001b[0m\n\u001b[0;32m    565\u001b[0m \u001b[1;33m\u001b[0m\u001b[0m\n",
      "\u001b[1;32m~\\Anaconda3\\lib\\site-packages\\pandas\\io\\json\\_json.py\u001b[0m in \u001b[0;36mread\u001b[1;34m(self)\u001b[0m\n\u001b[0;32m    690\u001b[0m                 \u001b[0mdata\u001b[0m \u001b[1;33m=\u001b[0m \u001b[0mensure_str\u001b[0m\u001b[1;33m(\u001b[0m\u001b[0mself\u001b[0m\u001b[1;33m.\u001b[0m\u001b[0mdata\u001b[0m\u001b[1;33m)\u001b[0m\u001b[1;33m\u001b[0m\u001b[1;33m\u001b[0m\u001b[0m\n\u001b[0;32m    691\u001b[0m                 \u001b[0mdata_lines\u001b[0m \u001b[1;33m=\u001b[0m \u001b[0mdata\u001b[0m\u001b[1;33m.\u001b[0m\u001b[0msplit\u001b[0m\u001b[1;33m(\u001b[0m\u001b[1;34m\"\\n\"\u001b[0m\u001b[1;33m)\u001b[0m\u001b[1;33m\u001b[0m\u001b[1;33m\u001b[0m\u001b[0m\n\u001b[1;32m--> 692\u001b[1;33m                 \u001b[0mobj\u001b[0m \u001b[1;33m=\u001b[0m \u001b[0mself\u001b[0m\u001b[1;33m.\u001b[0m\u001b[0m_get_object_parser\u001b[0m\u001b[1;33m(\u001b[0m\u001b[0mself\u001b[0m\u001b[1;33m.\u001b[0m\u001b[0m_combine_lines\u001b[0m\u001b[1;33m(\u001b[0m\u001b[0mdata_lines\u001b[0m\u001b[1;33m)\u001b[0m\u001b[1;33m)\u001b[0m\u001b[1;33m\u001b[0m\u001b[1;33m\u001b[0m\u001b[0m\n\u001b[0m\u001b[0;32m    693\u001b[0m         \u001b[1;32melse\u001b[0m\u001b[1;33m:\u001b[0m\u001b[1;33m\u001b[0m\u001b[1;33m\u001b[0m\u001b[0m\n\u001b[0;32m    694\u001b[0m             \u001b[0mobj\u001b[0m \u001b[1;33m=\u001b[0m \u001b[0mself\u001b[0m\u001b[1;33m.\u001b[0m\u001b[0m_get_object_parser\u001b[0m\u001b[1;33m(\u001b[0m\u001b[0mself\u001b[0m\u001b[1;33m.\u001b[0m\u001b[0mdata\u001b[0m\u001b[1;33m)\u001b[0m\u001b[1;33m\u001b[0m\u001b[1;33m\u001b[0m\u001b[0m\n",
      "\u001b[1;32m~\\Anaconda3\\lib\\site-packages\\pandas\\io\\json\\_json.py\u001b[0m in \u001b[0;36m_get_object_parser\u001b[1;34m(self, json)\u001b[0m\n\u001b[0;32m    714\u001b[0m         \u001b[0mobj\u001b[0m \u001b[1;33m=\u001b[0m \u001b[1;32mNone\u001b[0m\u001b[1;33m\u001b[0m\u001b[1;33m\u001b[0m\u001b[0m\n\u001b[0;32m    715\u001b[0m         \u001b[1;32mif\u001b[0m \u001b[0mtyp\u001b[0m \u001b[1;33m==\u001b[0m \u001b[1;34m\"frame\"\u001b[0m\u001b[1;33m:\u001b[0m\u001b[1;33m\u001b[0m\u001b[1;33m\u001b[0m\u001b[0m\n\u001b[1;32m--> 716\u001b[1;33m             \u001b[0mobj\u001b[0m \u001b[1;33m=\u001b[0m \u001b[0mFrameParser\u001b[0m\u001b[1;33m(\u001b[0m\u001b[0mjson\u001b[0m\u001b[1;33m,\u001b[0m \u001b[1;33m**\u001b[0m\u001b[0mkwargs\u001b[0m\u001b[1;33m)\u001b[0m\u001b[1;33m.\u001b[0m\u001b[0mparse\u001b[0m\u001b[1;33m(\u001b[0m\u001b[1;33m)\u001b[0m\u001b[1;33m\u001b[0m\u001b[1;33m\u001b[0m\u001b[0m\n\u001b[0m\u001b[0;32m    717\u001b[0m \u001b[1;33m\u001b[0m\u001b[0m\n\u001b[0;32m    718\u001b[0m         \u001b[1;32mif\u001b[0m \u001b[0mtyp\u001b[0m \u001b[1;33m==\u001b[0m \u001b[1;34m\"series\"\u001b[0m \u001b[1;32mor\u001b[0m \u001b[0mobj\u001b[0m \u001b[1;32mis\u001b[0m \u001b[1;32mNone\u001b[0m\u001b[1;33m:\u001b[0m\u001b[1;33m\u001b[0m\u001b[1;33m\u001b[0m\u001b[0m\n",
      "\u001b[1;32m~\\Anaconda3\\lib\\site-packages\\pandas\\io\\json\\_json.py\u001b[0m in \u001b[0;36mparse\u001b[1;34m(self)\u001b[0m\n\u001b[0;32m    829\u001b[0m \u001b[1;33m\u001b[0m\u001b[0m\n\u001b[0;32m    830\u001b[0m         \u001b[1;32melse\u001b[0m\u001b[1;33m:\u001b[0m\u001b[1;33m\u001b[0m\u001b[1;33m\u001b[0m\u001b[0m\n\u001b[1;32m--> 831\u001b[1;33m             \u001b[0mself\u001b[0m\u001b[1;33m.\u001b[0m\u001b[0m_parse_no_numpy\u001b[0m\u001b[1;33m(\u001b[0m\u001b[1;33m)\u001b[0m\u001b[1;33m\u001b[0m\u001b[1;33m\u001b[0m\u001b[0m\n\u001b[0m\u001b[0;32m    832\u001b[0m \u001b[1;33m\u001b[0m\u001b[0m\n\u001b[0;32m    833\u001b[0m         \u001b[1;32mif\u001b[0m \u001b[0mself\u001b[0m\u001b[1;33m.\u001b[0m\u001b[0mobj\u001b[0m \u001b[1;32mis\u001b[0m \u001b[1;32mNone\u001b[0m\u001b[1;33m:\u001b[0m\u001b[1;33m\u001b[0m\u001b[1;33m\u001b[0m\u001b[0m\n",
      "\u001b[1;32m~\\Anaconda3\\lib\\site-packages\\pandas\\io\\json\\_json.py\u001b[0m in \u001b[0;36m_parse_no_numpy\u001b[1;34m(self)\u001b[0m\n\u001b[0;32m   1077\u001b[0m         \u001b[1;32mif\u001b[0m \u001b[0morient\u001b[0m \u001b[1;33m==\u001b[0m \u001b[1;34m\"columns\"\u001b[0m\u001b[1;33m:\u001b[0m\u001b[1;33m\u001b[0m\u001b[1;33m\u001b[0m\u001b[0m\n\u001b[0;32m   1078\u001b[0m             self.obj = DataFrame(\n\u001b[1;32m-> 1079\u001b[1;33m                 \u001b[0mloads\u001b[0m\u001b[1;33m(\u001b[0m\u001b[0mjson\u001b[0m\u001b[1;33m,\u001b[0m \u001b[0mprecise_float\u001b[0m\u001b[1;33m=\u001b[0m\u001b[0mself\u001b[0m\u001b[1;33m.\u001b[0m\u001b[0mprecise_float\u001b[0m\u001b[1;33m)\u001b[0m\u001b[1;33m,\u001b[0m \u001b[0mdtype\u001b[0m\u001b[1;33m=\u001b[0m\u001b[1;32mNone\u001b[0m\u001b[1;33m\u001b[0m\u001b[1;33m\u001b[0m\u001b[0m\n\u001b[0m\u001b[0;32m   1080\u001b[0m             )\n\u001b[0;32m   1081\u001b[0m         \u001b[1;32melif\u001b[0m \u001b[0morient\u001b[0m \u001b[1;33m==\u001b[0m \u001b[1;34m\"split\"\u001b[0m\u001b[1;33m:\u001b[0m\u001b[1;33m\u001b[0m\u001b[1;33m\u001b[0m\u001b[0m\n",
      "\u001b[1;31mValueError\u001b[0m: Expected object or value"
     ]
    }
   ],
   "source": [
    "#import the data and manipulate the dataframes into the right structure\n",
    "edges99, nodes99 = import_network_data(\"experiment_data_logs/network_vis_data.log\", 1)\n",
    "edges89, nodes89 = import_network_data(\"experiment_data_logs/network_vis_data.log\", 2)\n",
    "edges79, nodes79 = import_network_data(\"experiment_data_logs/network_vis_data.log\", 3)\n",
    "\n",
    "#take a look at one of the dfs\n",
    "nodes79.head()"
   ]
  },
  {
   "cell_type": "markdown",
   "metadata": {},
   "source": [
    "Export the network data into a .gexf format."
   ]
  },
  {
   "cell_type": "code",
   "execution_count": null,
   "metadata": {},
   "outputs": [],
   "source": [
    "build_gexf_from_df(edges99, nodes99, \"network_data/99homophily.gexf\")\n",
    "build_gexf_from_df(edges89, nodes89, \"network_data/89homophily.gexf\")\n",
    "build_gexf_from_df(edges79, nodes79, \"network_data/79homophily.gexf\")"
   ]
  },
  {
   "cell_type": "markdown",
   "metadata": {},
   "source": [
    "### Generating the Visualization for Steady State with Base Parameters"
   ]
  },
  {
   "cell_type": "code",
   "execution_count": null,
   "metadata": {},
   "outputs": [],
   "source": [
    "base_df = import_and_clean(\"experiment_data_logs/base_parameter_data.log\")\n",
    "base_df = base_df.loc[base_df[\"data_flag\"] == \"seasonal_data\"]\n",
    "print(base_df.shape)\n",
    "base_df.head()"
   ]
  },
  {
   "cell_type": "code",
   "execution_count": null,
   "metadata": {},
   "outputs": [],
   "source": [
    "urban_grouped = base_df.query(\"hub_density==12\").groupby([\"season\"]).mean()\n",
    "rural_grouped = base_df.query(\"hub_density==8\").groupby([\"season\"]).mean()\n",
    "x = urban_grouped.index\n",
    "\n",
    "\n",
    "urban_grouped = base_df.query(\"hub_density==12\").groupby([\"season\"]).mean()\n",
    "rural_grouped = base_df.query(\"hub_density==8\").groupby([\"season\"]).mean()\n",
    "x = urban_grouped.index\n",
    "\n",
    "\n",
    "plt.plot(x, urban_grouped[\"proportion_vacc\"], color='#7f6d5f', label='Urban')\n",
    "plt.plot(x, rural_grouped[\"proportion_vacc\"], color='#557f2d', label='Rural')\n",
    "plt.title(\"Average Regional Vaccination over Time\") \n",
    "plt.xlabel(\"Season\")\n",
    "plt.ylabel(\"Vaccination Rate\")\n",
    "plt.legend(loc=\"best\")"
   ]
  },
  {
   "cell_type": "code",
   "execution_count": null,
   "metadata": {},
   "outputs": [],
   "source": [
    "urban_grouped = base_df.query(\"hub_density==12\").groupby([\"season\"]).mean()\n",
    "rural_grouped = base_df.query(\"hub_density==8\").groupby([\"season\"]).mean()\n",
    "x = urban_grouped.index\n",
    "\n",
    "\n",
    "plt.plot(x, urban_grouped[\"proportion_inf\"], color='#7f6d5f', label='Urban')\n",
    "plt.plot(x, rural_grouped[\"proportion_inf\"], color='#557f2d', label='Rural')\n",
    "plt.title(\"Average Regional Infection over Time\") \n",
    "plt.xlabel(\"Season\")\n",
    "plt.ylabel(\"Infection Rate\")\n",
    "plt.legend(loc=\"best\")"
   ]
  },
  {
   "cell_type": "markdown",
   "metadata": {},
   "source": [
    "### Experiment 1: The Effect of Homophily\n",
    "\n",
    "First, import the data and generate two useful variables."
   ]
  },
  {
   "cell_type": "code",
   "execution_count": null,
   "metadata": {},
   "outputs": [],
   "source": [
    "df1 = import_and_clean(\"experiment_data_logs/homophily_test_10_26.log\")\n",
    "print(df1.shape)\n",
    "df1.head()"
   ]
  },
  {
   "cell_type": "markdown",
   "metadata": {},
   "source": [
    "Before any data analysis, we want to visualize these epidemics. For this experiment, we need six new dataframes to build some line plots. We divide the data into six subsets based on homophily and hub contact rate. Then, for each epidemic season, we average all the data over every hub. "
   ]
  },
  {
   "cell_type": "code",
   "execution_count": null,
   "metadata": {},
   "outputs": [],
   "source": [
    "urban_99_grouped = df1.query(\"homophily==.99 and hub_density==12\").groupby([\"season\"]).mean()\n",
    "rural_99_grouped = df1.query(\"homophily==.99 and hub_density==8\").groupby([\"season\"]).mean()\n",
    "\n",
    "urban_89_grouped = df1.query(\"homophily==.89 and hub_density==12\").groupby([\"season\"]).mean()\n",
    "rural_89_grouped = df1.query(\"homophily==.89 and hub_density==8\").groupby([\"season\"]).mean()\n",
    "\n",
    "urban_79_grouped = df1.query(\"homophily==.79 and hub_density==12\").groupby([\"season\"]).mean()\n",
    "rural_79_grouped = df1.query(\"homophily==.79 and hub_density==8\").groupby([\"season\"]).mean()\n",
    "\n",
    "\n",
    "#let's take a look at one of the dataframes for good measure\n",
    "urban_99_grouped.head()"
   ]
  },
  {
   "cell_type": "markdown",
   "metadata": {},
   "source": [
    "#### Experiment 1, Visulization\n",
    "\n",
    "Build three line plots to compare urban vs. rural vaccination rates across the three degrees of homophily."
   ]
  },
  {
   "cell_type": "code",
   "execution_count": null,
   "metadata": {},
   "outputs": [],
   "source": [
    "#build the basic structure of our line plots\n",
    "fig, axes = plt.subplots(nrows=1, ncols=3, figsize = (18,4), sharey=True)\n",
    "x = urban_99_grouped.index\n",
    "\n",
    "urban_list = [urban_99_grouped, urban_89_grouped, urban_79_grouped]\n",
    "rural_list = [rural_99_grouped, rural_89_grouped, rural_79_grouped]\n",
    "homophily_list = [\"0.99\",\"0.89\",\"0.79\"]\n",
    "\n",
    "#iterate through these lists and visualize the vaccination rates\n",
    "for i in range(3):\n",
    "    axes[i].plot(x, urban_list[i][\"proportion_vacc\"], color='#7f6d5f', label='Urban')\n",
    "    axes[i].plot(x, rural_list[i][\"proportion_vacc\"], color='#557f2d', label='Rural')\n",
    "    axes[i].set_title(\"Avg Regional Vaccination over Time, Homophily = \"+ homophily_list[i]) \n",
    "    axes[i].set_xlabel(\"Season\")\n",
    "    axes[i].set_ylabel(\"Vaccination Rate\")\n",
    "    axes[i].legend(loc=\"best\")"
   ]
  },
  {
   "cell_type": "markdown",
   "metadata": {},
   "source": [
    "Build similar graphs for infection rates"
   ]
  },
  {
   "cell_type": "code",
   "execution_count": null,
   "metadata": {},
   "outputs": [],
   "source": [
    "fig, axes = plt.subplots(nrows=1, ncols=3, figsize = (18,4), sharey=True)\n",
    "\n",
    "urban_list = [urban_99_grouped, urban_89_grouped, urban_79_grouped]\n",
    "rural_list = [rural_99_grouped, rural_89_grouped, rural_79_grouped]\n",
    "homophily_list = [\"0.99\",\"0.89\",\"0.79\"]\n",
    "\n",
    "#iterate through these lists and visualize the vaccination rates\n",
    "for i in range(3):\n",
    "    axes[i].plot(x, urban_list[i][\"proportion_inf\"], color='#7f6d5f', label='Urban')\n",
    "    axes[i].plot(x, rural_list[i][\"proportion_inf\"], color='#557f2d', label='Rural')\n",
    "    axes[i].set_title(\"Avg Regional Infection over Time, Homophily = \"+ homophily_list[i]) \n",
    "    axes[i].set_xlabel(\"Season\")\n",
    "    axes[i].set_ylabel(\"Infection Rate\")\n",
    "    axes[i].legend(loc=\"best\")\n",
    "    "
   ]
  },
  {
   "cell_type": "markdown",
   "metadata": {},
   "source": [
    "#### Experiment 1, Summary Statistics"
   ]
  },
  {
   "cell_type": "code",
   "execution_count": null,
   "metadata": {},
   "outputs": [],
   "source": [
    "#find average values for each hub over the last five seasons\n",
    "exp1_hubs = collapse_steady_state(df1)\n",
    "\n",
    "#clean up some of the variable names for the table\n",
    "exp1_hubs[\"Percent Vaccinated\"] = exp1_hubs[\"proportion_vacc\"]*100\n",
    "exp1_hubs[\"Percent Infected\"] = exp1_hubs[\"proportion_inf\"]*100\n",
    "exp1_hubs = exp1_hubs.rename(columns={\"homophily\": \"Homophily\",\n",
    "                                    \"hub_density\": \"Hub Contact Rate\"})\n",
    "\n",
    "#build table 1\n",
    "table1 = exp1_hubs.groupby([\"Homophily\", \"Hub Contact Rate\"]).agg({\"Percent Infected\": ['mean', 'std'],\n",
    "                                                                  \"Percent Vaccinated\": ['mean', 'std']}).round(2)\n",
    "#export table1 to csv and display it\n",
    "table1.to_csv(\"tables\\homophily_exp_table.csv\")\n",
    "table1"
   ]
  },
  {
   "cell_type": "markdown",
   "metadata": {},
   "source": [
    "#### Experiment 1, Difference in Differences Estimation"
   ]
  },
  {
   "cell_type": "code",
   "execution_count": null,
   "metadata": {},
   "outputs": [],
   "source": [
    "exp1_dum = pd.get_dummies(exp1_hubs[[\"Hub Contact Rate\", \"Homophily\"]], columns=[\"Hub Contact Rate\", \"Homophily\"])\n",
    "exp1_dum = exp1_dum.rename(columns={\"Hub Contact Rate_8\": \"Rural\",\n",
    "                                \"Hub Contact Rate_12\": \"Urban\"})\n",
    "\n",
    "reg1 = pd.concat([exp1_dum, exp1_hubs], axis=1) \n",
    "\n",
    "df_79vs99 = reg1.query(\"Homophily!=0.89\")\n",
    "df_79vs99[\"Homophily_0.99:Urban\"] = df_79vs99[\"Homophily_0.99\"]*df_79vs99[\"Urban\"]\n",
    "\n",
    "\n",
    "x = [\"Homophily_0.99\", \"Urban\", \"Homophily_0.99:Urban\"]\n",
    "y = \"Percent Vaccinated\"\n",
    "results = mt.reg(df_79vs99, y, x)\n",
    "\n",
    "print(results)"
   ]
  },
  {
   "cell_type": "markdown",
   "metadata": {},
   "source": [
    "### Experiment 2: The Effect of Density"
   ]
  },
  {
   "cell_type": "code",
   "execution_count": null,
   "metadata": {},
   "outputs": [],
   "source": [
    "df2 = import_and_clean(\"experiment_data_logs/density_test_10_27.log\")\n",
    "print(df2.shape)\n",
    "df2.head()"
   ]
  },
  {
   "cell_type": "markdown",
   "metadata": {},
   "source": [
    "For this experiment, we need five  dataframes to build  line plots. We divide the data into five subsets based on hub contact rate. Then, for each epidemic season, we average all the data over every hub. "
   ]
  },
  {
   "cell_type": "code",
   "execution_count": null,
   "metadata": {},
   "outputs": [],
   "source": [
    "#find the datapoints where density is 6 and 14\n",
    "df_14_grouped = df2.query(\"hub_density==14\").groupby([\"season\"]).mean()\n",
    "df_6_grouped = df2.query(\"hub_density==6\").groupby([\"season\"]).mean()\n",
    "\n",
    "#find the next set of datapoints where density is 8 and 12\n",
    "df_12_grouped = df2.query(\"hub_density==12\").groupby([\"season\"]).mean()\n",
    "df_8_grouped = df2.query(\"hub_density==8\").groupby([\"season\"]).mean()\n",
    "\n",
    "#last, find the data where density is 10\n",
    "df_10_grouped = df2.query(\"hub_density==10\").groupby([\"season\"]).mean()\n",
    "\n",
    "#let's take a look at one of the dataframes\n",
    "print(df_14_grouped.shape)\n",
    "df_14_grouped.head()"
   ]
  },
  {
   "cell_type": "markdown",
   "metadata": {},
   "source": [
    "#### Experiment 2, Visulization\n",
    "\n",
    "Build three line plots to compare urban vs. rural vaccination rates across the three contact rate treatments."
   ]
  },
  {
   "cell_type": "code",
   "execution_count": null,
   "metadata": {},
   "outputs": [],
   "source": [
    "#Build the basic structure of the figure\n",
    "fig, axes = plt.subplots(nrows=1, ncols=3, figsize = (18,4), sharey=True)\n",
    "x = df_14_grouped.index\n",
    "\n",
    "axes[0].plot(x, df_14_grouped[\"proportion_vacc\"], color='#7f6d5f', label='Urban: 14 contacts')\n",
    "axes[0].plot(x, df_6_grouped[\"proportion_vacc\"], color='#557f2d', label='Rural: 6 contacts')\n",
    "axes[0].set_title(\"Regional Vaccination over Time: 14 vs 6 Contact Rate\")\n",
    "axes[0].set_xlabel(\"Season\")\n",
    "axes[0].set_ylabel(\"Average Vaccination Rate\")\n",
    "axes[0].legend(loc=\"best\")\n",
    "\n",
    "axes[1].plot(x, df_12_grouped[\"proportion_vacc\"], color='#7f6d5f', label='Urban: 12 contact')\n",
    "axes[1].plot(x, df_8_grouped[\"proportion_vacc\"], color='#557f2d', label='Rural: 8 contacts')\n",
    "axes[1].set_title(\"Regional Vaccination over Time: 12 vs 8 Contact Rate\")\n",
    "axes[1].set_xlabel(\"Season\")\n",
    "axes[1].legend(loc=\"best\")\n",
    "\n",
    "axes[2].plot(x, df_10_grouped[\"proportion_vacc\"], color='#7f6d5f', label='10 contacts')\n",
    "axes[2].set_title(\"Regional Vaccination over Time: 10 Contact Rate\")\n",
    "axes[2].set_xlabel(\"Season\")\n",
    "axes[1].legend(loc=\"best\")"
   ]
  },
  {
   "cell_type": "markdown",
   "metadata": {},
   "source": [
    "Build similar graphs for infection rates"
   ]
  },
  {
   "cell_type": "code",
   "execution_count": null,
   "metadata": {},
   "outputs": [],
   "source": [
    "fig, axes = plt.subplots(nrows=1, ncols=3, figsize = (18,4), sharey=True)\n",
    "axes[0].plot(x, df_14_grouped[\"proportion_inf\"], color='#7f6d5f', label='Urban: 14 contacts')\n",
    "axes[0].plot(x, df_6_grouped[\"proportion_inf\"], color='#557f2d', label='Rural: 6 contacts')\n",
    "axes[0].set_title(\"Regional Infection over Time: 14 vs 6 Contact Rate\")\n",
    "axes[0].set_xlabel(\"Season\")\n",
    "axes[0].set_ylabel(\"Average Infection Rate\")\n",
    "axes[0].legend(loc=\"best\")\n",
    "\n",
    "axes[1].plot(x, df_12_grouped[\"proportion_inf\"], color='#7f6d5f', label='Urban: 12 contact')\n",
    "axes[1].plot(x, df_8_grouped[\"proportion_inf\"], color='#557f2d', label='Rural: 8 contacts')\n",
    "axes[1].set_title(\"Regional Infection over Time: 12 vs 8 Contact Rate\")\n",
    "axes[1].set_xlabel(\"Season\")\n",
    "axes[1].legend(loc=\"best\")\n",
    "\n",
    "axes[2].plot(x, df_10_grouped[\"proportion_inf\"], color='#7f6d5f', label='10 contacts')\n",
    "axes[2].set_title(\"Regional Infection over Time: 10 Contact Rate\")\n",
    "axes[2].set_xlabel(\"Season\")\n",
    "axes[1].legend(loc=\"best\")"
   ]
  },
  {
   "cell_type": "markdown",
   "metadata": {},
   "source": [
    "#### Experiment 2, Summary Statistics"
   ]
  },
  {
   "cell_type": "code",
   "execution_count": null,
   "metadata": {},
   "outputs": [],
   "source": [
    "#find average values for each hub over the last five seasons\n",
    "exp2_hubs = collapse_steady_state(df2)\n",
    "\n",
    "#clean up some of the variable names for the table\n",
    "exp2_hubs[\"Percent Vaccinated\"] = exp2_hubs[\"proportion_vacc\"]*100\n",
    "exp2_hubs[\"Percent Infected\"] = exp2_hubs[\"proportion_inf\"]*100\n",
    "exp2_hubs = exp2_hubs.rename(columns={\"homophily\": \"Homophily\",\n",
    "                                    \"hub_density\": \"Hub Contact Rate\"})\n",
    "\n",
    "#create a variable for each treatment\n",
    "exp2_hubs.loc[(exp2_hubs[\"Hub Contact Rate\"]==6) | (exp2_hubs[\"Hub Contact Rate\"]==14), \"Treatment\"] = \"A\"\n",
    "exp2_hubs.loc[(exp2_hubs[\"Hub Contact Rate\"]==8) | (exp2_hubs[\"Hub Contact Rate\"]==12), \"Treatment\"] = \"B\"\n",
    "exp2_hubs.loc[(exp2_hubs[\"Hub Contact Rate\"]==10), \"Treatment\"] = \"C\"\n",
    "\n",
    "#build table 2\n",
    "table2 = exp2_hubs.groupby([\"Treatment\", \"Hub Contact Rate\"]).agg({\"Percent Infected\": ['mean', 'std'],\n",
    "                                                                  \"Percent Vaccinated\": ['mean', 'std','count']}).round(2)\n",
    "#export table2 to csv and display it\n",
    "table2.to_csv(\"tables\\contact_rate_exp_table.csv\")\n",
    "table2"
   ]
  },
  {
   "cell_type": "markdown",
   "metadata": {},
   "source": [
    "### Experiment 3: The Effect of Infection Cost"
   ]
  },
  {
   "cell_type": "code",
   "execution_count": null,
   "metadata": {},
   "outputs": [],
   "source": [
    "df3 = import_and_clean(\"experiment_data_logs/cost_test_11_3.log\")\n",
    "print(df3.shape)\n",
    "df3.head()"
   ]
  },
  {
   "cell_type": "markdown",
   "metadata": {},
   "source": [
    "Divide the data into six subsets based on the cost of infection and hub density. Average values over all the hubs for each season. These dataframes will be useful for the line plots below."
   ]
  },
  {
   "cell_type": "code",
   "execution_count": null,
   "metadata": {},
   "outputs": [],
   "source": [
    "urban_2_grouped = df3.query(\"cost_of_infection==2 and hub_density==12\").groupby([\"season\"]).mean()\n",
    "rural_2_grouped = df3.query(\"cost_of_infection==2 and hub_density==8\").groupby([\"season\"]).mean()\n",
    "\n",
    "urban_3_grouped = df3.query(\"cost_of_infection==3 and hub_density==12\").groupby([\"season\"]).mean()\n",
    "rural_3_grouped = df3.query(\"cost_of_infection==3 and hub_density==8\").groupby([\"season\"]).mean()\n",
    "\n",
    "urban_4_grouped = df3.query(\"cost_of_infection==4 and hub_density==12\").groupby([\"season\"]).mean()\n",
    "rural_4_grouped = df3.query(\"cost_of_infection==4 and hub_density==8\").groupby([\"season\"]).mean()\n",
    "\n",
    "\n",
    "#let's take a look at one of the dataframes for good measure\n",
    "urban_4_grouped.head()"
   ]
  },
  {
   "cell_type": "markdown",
   "metadata": {},
   "source": [
    "#### Experiment 3, Visualizations"
   ]
  },
  {
   "cell_type": "code",
   "execution_count": null,
   "metadata": {},
   "outputs": [],
   "source": [
    "#build the basic structure of our line plots\n",
    "fig, axes = plt.subplots(nrows=1, ncols=3, figsize = (18,4), sharey=True)\n",
    "x = urban_2_grouped.index\n",
    "\n",
    "urban_list2 = [urban_2_grouped, urban_3_grouped, urban_4_grouped]\n",
    "rural_list2 = [rural_2_grouped, rural_3_grouped, rural_4_grouped]\n",
    "cost_list = [\"2\",\"3\",\"4\"]\n",
    "\n",
    "#iterate through these lists and visualize the vaccination rates\n",
    "for i in range(3):\n",
    "    axes[i].plot(x, urban_list2[i][\"proportion_vacc\"], color='#7f6d5f', label='Urban')\n",
    "    axes[i].plot(x, rural_list2[i][\"proportion_vacc\"], color='#557f2d', label='Rural')\n",
    "    axes[i].set_title(\"Avg Regional Vaccination over Time, Infection Cost of \"+ cost_list[i]) \n",
    "    axes[i].set_xlabel(\"Season\")\n",
    "    axes[i].legend(loc=\"best\")\n",
    "    \n",
    "    if i==0:\n",
    "        axes[i].set_ylabel(\"Vaccination Rate\")"
   ]
  },
  {
   "cell_type": "code",
   "execution_count": null,
   "metadata": {},
   "outputs": [],
   "source": [
    "fig, axes = plt.subplots(nrows=1, ncols=3, figsize = (18,4), sharey=True)\n",
    "\n",
    "#iterate through these lists and visualize the vaccination rates\n",
    "for i in range(3):\n",
    "    axes[i].plot(x, urban_list2[i][\"proportion_inf\"], color='#7f6d5f', label='Urban')\n",
    "    axes[i].plot(x, rural_list2[i][\"proportion_inf\"], color='#557f2d', label='Rural')\n",
    "    axes[i].set_title(\"Avg Regional Infection over Time, Infection Cost of \"+ cost_list[i]) \n",
    "    axes[i].set_xlabel(\"Season\")\n",
    "    axes[i].legend(loc=\"best\")\n",
    "    \n",
    "    if i==0:\n",
    "            axes[i].set_ylabel(\"Infection Rate\")"
   ]
  },
  {
   "cell_type": "markdown",
   "metadata": {},
   "source": [
    "#### Experiment 3, Summary Statistics"
   ]
  },
  {
   "cell_type": "code",
   "execution_count": null,
   "metadata": {},
   "outputs": [],
   "source": [
    "#find average values for each hub over the last five seasons\n",
    "exp3_hubs = collapse_steady_state(df3)\n",
    "\n",
    "#clean up some of the variable names for the table\n",
    "exp3_hubs[\"Percent Vaccinated\"] = exp3_hubs[\"proportion_vacc\"]*100\n",
    "exp3_hubs[\"Percent Infected\"] = exp3_hubs[\"proportion_inf\"]*100\n",
    "exp3_hubs = exp3_hubs.rename(columns={\"cost_of_infection\": \"Cost of Infection\",\n",
    "                                    \"hub_density\": \"Hub Contact Rate\"})\n",
    "\n",
    "\n",
    "#build table 3\n",
    "table3 = exp3_hubs.groupby([\"Cost of Infection\", \"Hub Contact Rate\"]).agg({\"Percent Infected\": ['mean', 'std'],\n",
    "                                                                  \"Percent Vaccinated\": ['mean', 'std','count']}).round(2)\n",
    "#export table3 to csv and display it\n",
    "table3.to_csv(\"tables\\infection_cost.csv\")\n",
    "table3"
   ]
  },
  {
   "cell_type": "markdown",
   "metadata": {},
   "source": [
    "### Experiment 4: The Effect of Population Difference"
   ]
  },
  {
   "cell_type": "markdown",
   "metadata": {},
   "source": [
    "In this experiment, we need to import two dataframes. df4a will include all of our data where population sizes are 140 and 60; df4b will include all of our data where population size is constant at 100. "
   ]
  },
  {
   "cell_type": "code",
   "execution_count": null,
   "metadata": {},
   "outputs": [],
   "source": [
    "df4a = import_and_clean(\"experiment_data_logs/pop_test_a_11_8.log\")\n",
    "print(df4a.shape)\n",
    "df4a.head()"
   ]
  },
  {
   "cell_type": "code",
   "execution_count": null,
   "metadata": {},
   "outputs": [],
   "source": [
    "df4b = import_and_clean(\"experiment_data_logs/pop_test_b_11_9.log\")\n",
    "print(df4b.shape)\n",
    "df4b.head()"
   ]
  },
  {
   "cell_type": "markdown",
   "metadata": {},
   "source": [
    "#### Experiment 4, Visualization"
   ]
  },
  {
   "cell_type": "code",
   "execution_count": null,
   "metadata": {},
   "outputs": [],
   "source": [
    "x = range(25)\n",
    "fig, axes = plt.subplots(nrows=3, ncols=3, figsize = (18,15), sharey=True, sharex=True)\n",
    "\n",
    "df_list = [df4a,df2,df4b]\n",
    "pop_size_list = [(140,60), (120,80), (100,100)]\n",
    "contact_rate_list = [(14,6), (12,8), (10,10)]\n",
    "\n",
    "\n",
    "#first, we want to loop through every dataframe in the df_list\n",
    "for i in range(3):\n",
    "    pop_df = df_list[i]\n",
    "    urban_pop_size = pop_size_list[i][0]\n",
    "    rural_pop_size = pop_size_list[i][1]\n",
    "    \n",
    "    #then, we want to loop through every possible combination of contact rates in taht df\n",
    "    for j in range(3):\n",
    "        \n",
    "        #find the urban contact rate and the rural contact rate\n",
    "        urban_cr = contact_rate_list[j][0]\n",
    "        rural_cr = contact_rate_list[j][1]\n",
    "        \n",
    "        #create subsets of the data for urban and rural. Then collapse on season averages\n",
    "        urban_df = pop_df.query(f\"hub_density=={urban_cr}\").groupby([\"season\"]).mean()\n",
    "        rural_df = pop_df.query(f\"hub_density=={rural_cr}\").groupby([\"season\"]).mean()\n",
    "        \n",
    "        if urban_cr!=rural_cr: #if urban and rural contact rates are different, plot two lines\n",
    "            axes[i,j].plot(x, urban_df[\"proportion_vacc\"], color='#7f6d5f', label=f'Urban: {urban_pop_size} agents')\n",
    "            axes[i,j].plot(x, rural_df[\"proportion_vacc\"], color='#557f2d', label=f'Rural: {rural_pop_size} agents')\n",
    "            axes[i,j].legend(loc=\"best\")\n",
    "            if i==0:\n",
    "                axes[i,j].set_title(f\"Regional Vaccination over Time: {urban_cr} vs {rural_cr} Contact Rate\")\n",
    "            \n",
    "        else: #if the urban and rual contact rates are the same (10), plot only one line\n",
    "            axes[i,j].plot(x, urban_df[\"proportion_vacc\"], color='#7f6d5f', label='All 10 contact rate')\n",
    "            axes[i,j].legend(loc=\"best\")\n",
    "            if i==0: \n",
    "                axes[i,j].set_title(f\"Regional Vaccination over Time: 10 Contact Rate\")\n",
    "                \n",
    "        if j==0: #if the plot is on the left column, set a y label\n",
    "                axes[i,j].set_ylabel(\"Average Vaccination Rate\")\n",
    "        if i==2: #if the plot is on the bottom row, set an x label\n",
    "                axes[i,j].set_xlabel(\"Season\")"
   ]
  },
  {
   "cell_type": "code",
   "execution_count": null,
   "metadata": {},
   "outputs": [],
   "source": [
    "x = range(25)\n",
    "fig, axes = plt.subplots(nrows=3, ncols=3, figsize = (18,15), sharey=True, sharex=True)\n",
    "\n",
    "#first, we want to loop through every dataframe in the df_list\n",
    "for i in range(3):\n",
    "    pop_df = df_list[i]\n",
    "    urban_pop_size = pop_size_list[i][0]\n",
    "    rural_pop_size = pop_size_list[i][1]\n",
    "    \n",
    "    #then, we want to loop through every possible combination of contact rates in taht df\n",
    "    for j in range(3):\n",
    "        \n",
    "        #find the urban contact rate and the rural contact rate\n",
    "        urban_cr = contact_rate_list[j][0]\n",
    "        rural_cr = contact_rate_list[j][1]\n",
    "        \n",
    "        #create subsets of the data for urban and rural. Then collapse on season averages\n",
    "        urban_df = pop_df.query(f\"hub_density=={urban_cr}\").groupby([\"season\"]).mean()\n",
    "        rural_df = pop_df.query(f\"hub_density=={rural_cr}\").groupby([\"season\"]).mean()\n",
    "        \n",
    "        if urban_cr!=rural_cr: #if urban and rural contact rates are different, plot two lines\n",
    "            axes[i,j].plot(x, urban_df[\"proportion_inf\"], color='#7f6d5f', label=f'Urban: {urban_pop_size}')\n",
    "            axes[i,j].plot(x, rural_df[\"proportion_inf\"], color='#557f2d', label=f'Rural: {rural_pop_size}')\n",
    "            axes[i,j].legend(loc=\"best\")\n",
    "            if i==0:\n",
    "                axes[i,j].set_title(f\"Regional Infection over Time: {urban_cr} vs {rural_cr} Contact Rate\")\n",
    "            \n",
    "        else: #if the urban and rual contact rates are the same (10), plot only one line\n",
    "            axes[i,j].plot(x, urban_df[\"proportion_inf\"], color='#7f6d5f', label='All 10 contact rate')\n",
    "            axes[i,j].legend(loc=\"best\")\n",
    "            if i==0: \n",
    "                axes[i,j].set_title(f\"Regional Infection over Time: 10 Contact Rate\")\n",
    "                \n",
    "        if j==0: #if the plot is on the left column, set a y label\n",
    "                axes[i,j].set_ylabel(\"Average Infection Rate\")\n",
    "        if i==2: #if the plot is on the bottom row, set an x label\n",
    "                axes[i,j].set_xlabel(\"Season\")"
   ]
  },
  {
   "cell_type": "markdown",
   "metadata": {},
   "source": [
    "#### Experiment 4, Summary Statistics\n",
    "\n",
    "This table looks slightly different from the previous ones. First we build table 4(a), about vaccination rates. "
   ]
  },
  {
   "cell_type": "code",
   "execution_count": null,
   "metadata": {},
   "outputs": [],
   "source": [
    "exp4a_hubs = collapse_steady_state(df4a)\n",
    "exp4b_hubs = collapse_steady_state(df4b)\n",
    "\n",
    "#clean up some of the variable names for the table\n",
    "exp4a_hubs[\"Percent Vaccinated\"] = exp4a_hubs[\"proportion_vacc\"]*100\n",
    "exp4a_hubs[\"Percent Infected\"] = exp4a_hubs[\"proportion_inf\"]*100\n",
    "exp4a_hubs = exp4a_hubs.rename(columns={\"homophily\": \"Homophily\",\n",
    "                                    \"hub_density\": \"Hub Contact Rate\"})\n",
    "\n",
    "exp4b_hubs[\"Percent Vaccinated\"] = exp4b_hubs[\"proportion_vacc\"]*100\n",
    "exp4b_hubs[\"Percent Infected\"] = exp4b_hubs[\"proportion_inf\"]*100\n",
    "exp4b_hubs = exp4b_hubs.rename(columns={\"homophily\": \"Homophily\",\n",
    "                                    \"hub_density\": \"Hub Contact Rate\"})\n",
    "\n",
    "\n",
    "#create a variable for each treatment\n",
    "exp4a_hubs.loc[(exp4a_hubs[\"Hub Contact Rate\"]==6) | (exp4a_hubs[\"Hub Contact Rate\"]==14), \"Treatment\"] = \"A\"\n",
    "exp4a_hubs.loc[(exp4a_hubs[\"Hub Contact Rate\"]==8) | (exp4a_hubs[\"Hub Contact Rate\"]==12), \"Treatment\"] = \"B\"\n",
    "exp4a_hubs.loc[(exp4a_hubs[\"Hub Contact Rate\"]==10), \"Treatment\"] = \"C\"\n",
    "\n",
    "exp4b_hubs.loc[(exp4b_hubs[\"Hub Contact Rate\"]==6) | (exp4b_hubs[\"Hub Contact Rate\"]==14), \"Treatment\"] = \"A\"\n",
    "exp4b_hubs.loc[(exp4b_hubs[\"Hub Contact Rate\"]==8) | (exp4b_hubs[\"Hub Contact Rate\"]==12), \"Treatment\"] = \"B\"\n",
    "exp4b_hubs.loc[(exp4b_hubs[\"Hub Contact Rate\"]==10), \"Treatment\"] = \"C\"\n",
    "\n",
    "\n",
    "#build table 4a\n",
    "vacc_2 = exp2_hubs.groupby([\"Treatment\", \"Hub Contact Rate\"]).agg({\"Percent Vaccinated\": ['mean', 'std']}).round(2)\n",
    "vacc_2 = vacc_2.rename(columns={\"Percent Vaccinated\": \"Percent Vaccinated (Pop Size I)\"})\n",
    "vacc_4a = exp4a_hubs.groupby([\"Treatment\", \"Hub Contact Rate\"]).agg({\"Percent Vaccinated\": ['mean', 'std']}).round(2)\n",
    "vacc_4a = vacc_4a.rename(columns={\"Percent Vaccinated\": \"Percent Vaccinated (Pop Size II)\"})\n",
    "vacc_4b = exp4b_hubs.groupby([\"Treatment\", \"Hub Contact Rate\"]).agg({\"Percent Vaccinated\": ['mean', 'std']}).round(2)\n",
    "vacc_4b = vacc_4b.rename(columns={\"Percent Vaccinated\": \"Percent Vaccinated (Pop Size III)\"})\n",
    "\n",
    "#concatenate the tables together\n",
    "table4a = pd.concat([vacc_2,vacc_4a,vacc_4b], axis=1)\n",
    "\n",
    "#export table4a to csv and display it\n",
    "table4a.to_csv(\"tables\\pop_size_vacc_table.csv\")\n",
    "table4a"
   ]
  },
  {
   "cell_type": "markdown",
   "metadata": {},
   "source": [
    "Now, we want to create the same table as above for infection rates. This will be table 4(b)."
   ]
  },
  {
   "cell_type": "code",
   "execution_count": null,
   "metadata": {},
   "outputs": [],
   "source": [
    "#now we want to create the same table as above for inf rates\n",
    "#build table 4a\n",
    "inf_2 = exp2_hubs.groupby([\"Treatment\", \"Hub Contact Rate\"]).agg({\"Percent Infected\": ['mean', 'std']}).round(2)\n",
    "inf_2 = inf_2.rename(columns={\"Percent Infected\": \"Percent Infected (Pop Size I)\"})\n",
    "inf_4a = exp4a_hubs.groupby([\"Treatment\", \"Hub Contact Rate\"]).agg({\"Percent Infected\": ['mean', 'std']}).round(2)\n",
    "inf_4a = inf_4a.rename(columns={\"Percent Infected\": \"Percent Infected  (Pop Size II)\"})\n",
    "inf_4b = exp4b_hubs.groupby([\"Treatment\", \"Hub Contact Rate\"]).agg({\"Percent Infected\": ['mean', 'std']}).round(2)\n",
    "inf_4b = inf_4b.rename(columns={\"Percent Infected\": \"Percent Infected (Pop Size III)\"})\n",
    "\n",
    "#concatenate the tables together\n",
    "table4b = pd.concat([inf_2,inf_4a,inf_4b], axis=1)\n",
    "\n",
    "#export table4a to csv and display it\n",
    "table4b.to_csv(\"tables\\pop_size_inf_table.csv\")\n",
    "table4b"
   ]
  },
  {
   "cell_type": "code",
   "execution_count": null,
   "metadata": {},
   "outputs": [],
   "source": []
  }
 ],
 "metadata": {
  "kernelspec": {
   "display_name": "Python 3",
   "language": "python",
   "name": "python3"
  },
  "language_info": {
   "codemirror_mode": {
    "name": "ipython",
    "version": 3
   },
   "file_extension": ".py",
   "mimetype": "text/x-python",
   "name": "python",
   "nbconvert_exporter": "python",
   "pygments_lexer": "ipython3",
   "version": "3.8.5"
  },
  "toc": {
   "base_numbering": 1,
   "nav_menu": {},
   "number_sections": true,
   "sideBar": true,
   "skip_h1_title": false,
   "title_cell": "Table of Contents",
   "title_sidebar": "Contents",
   "toc_cell": false,
   "toc_position": {},
   "toc_section_display": true,
   "toc_window_display": false
  }
 },
 "nbformat": 4,
 "nbformat_minor": 4
}
